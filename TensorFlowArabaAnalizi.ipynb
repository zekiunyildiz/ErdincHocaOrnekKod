{
 "cells": [
  {
   "cell_type": "code",
   "execution_count": 1,
   "metadata": {},
   "outputs": [],
   "source": [
    "import pandas as pd\n",
    "import numpy as np\n",
    "import matplotlib.pyplot as plt\n",
    "import seaborn as sbn"
   ]
  },
  {
   "cell_type": "code",
   "execution_count": 2,
   "metadata": {},
   "outputs": [],
   "source": [
    "dataFrame = pd.read_excel(\"merc.xlsx\")"
   ]
  },
  {
   "cell_type": "code",
   "execution_count": 3,
   "metadata": {},
   "outputs": [
    {
     "data": {
      "text/html": [
       "<div>\n",
       "<style scoped>\n",
       "    .dataframe tbody tr th:only-of-type {\n",
       "        vertical-align: middle;\n",
       "    }\n",
       "\n",
       "    .dataframe tbody tr th {\n",
       "        vertical-align: top;\n",
       "    }\n",
       "\n",
       "    .dataframe thead th {\n",
       "        text-align: right;\n",
       "    }\n",
       "</style>\n",
       "<table border=\"1\" class=\"dataframe\">\n",
       "  <thead>\n",
       "    <tr style=\"text-align: right;\">\n",
       "      <th></th>\n",
       "      <th>year</th>\n",
       "      <th>price</th>\n",
       "      <th>transmission</th>\n",
       "      <th>mileage</th>\n",
       "      <th>tax</th>\n",
       "      <th>mpg</th>\n",
       "      <th>engineSize</th>\n",
       "    </tr>\n",
       "  </thead>\n",
       "  <tbody>\n",
       "    <tr>\n",
       "      <th>0</th>\n",
       "      <td>2005</td>\n",
       "      <td>5200</td>\n",
       "      <td>Automatic</td>\n",
       "      <td>63000</td>\n",
       "      <td>325</td>\n",
       "      <td>32.1</td>\n",
       "      <td>1.8</td>\n",
       "    </tr>\n",
       "    <tr>\n",
       "      <th>1</th>\n",
       "      <td>2017</td>\n",
       "      <td>34948</td>\n",
       "      <td>Automatic</td>\n",
       "      <td>27000</td>\n",
       "      <td>20</td>\n",
       "      <td>61.4</td>\n",
       "      <td>2.1</td>\n",
       "    </tr>\n",
       "    <tr>\n",
       "      <th>2</th>\n",
       "      <td>2016</td>\n",
       "      <td>49948</td>\n",
       "      <td>Automatic</td>\n",
       "      <td>6200</td>\n",
       "      <td>555</td>\n",
       "      <td>28.0</td>\n",
       "      <td>5.5</td>\n",
       "    </tr>\n",
       "    <tr>\n",
       "      <th>3</th>\n",
       "      <td>2016</td>\n",
       "      <td>61948</td>\n",
       "      <td>Automatic</td>\n",
       "      <td>16000</td>\n",
       "      <td>325</td>\n",
       "      <td>30.4</td>\n",
       "      <td>4.0</td>\n",
       "    </tr>\n",
       "    <tr>\n",
       "      <th>4</th>\n",
       "      <td>2016</td>\n",
       "      <td>73948</td>\n",
       "      <td>Automatic</td>\n",
       "      <td>4000</td>\n",
       "      <td>325</td>\n",
       "      <td>30.1</td>\n",
       "      <td>4.0</td>\n",
       "    </tr>\n",
       "  </tbody>\n",
       "</table>\n",
       "</div>"
      ],
      "text/plain": [
       "   year  price transmission  mileage  tax   mpg  engineSize\n",
       "0  2005   5200    Automatic    63000  325  32.1         1.8\n",
       "1  2017  34948    Automatic    27000   20  61.4         2.1\n",
       "2  2016  49948    Automatic     6200  555  28.0         5.5\n",
       "3  2016  61948    Automatic    16000  325  30.4         4.0\n",
       "4  2016  73948    Automatic     4000  325  30.1         4.0"
      ]
     },
     "execution_count": 3,
     "metadata": {},
     "output_type": "execute_result"
    }
   ],
   "source": [
    "dataFrame.head()"
   ]
  },
  {
   "cell_type": "code",
   "execution_count": 4,
   "metadata": {},
   "outputs": [
    {
     "data": {
      "text/html": [
       "<div>\n",
       "<style scoped>\n",
       "    .dataframe tbody tr th:only-of-type {\n",
       "        vertical-align: middle;\n",
       "    }\n",
       "\n",
       "    .dataframe tbody tr th {\n",
       "        vertical-align: top;\n",
       "    }\n",
       "\n",
       "    .dataframe thead th {\n",
       "        text-align: right;\n",
       "    }\n",
       "</style>\n",
       "<table border=\"1\" class=\"dataframe\">\n",
       "  <thead>\n",
       "    <tr style=\"text-align: right;\">\n",
       "      <th></th>\n",
       "      <th>year</th>\n",
       "      <th>price</th>\n",
       "      <th>mileage</th>\n",
       "      <th>tax</th>\n",
       "      <th>mpg</th>\n",
       "      <th>engineSize</th>\n",
       "    </tr>\n",
       "  </thead>\n",
       "  <tbody>\n",
       "    <tr>\n",
       "      <th>count</th>\n",
       "      <td>13119.000000</td>\n",
       "      <td>13119.000000</td>\n",
       "      <td>13119.000000</td>\n",
       "      <td>13119.000000</td>\n",
       "      <td>13119.000000</td>\n",
       "      <td>13119.000000</td>\n",
       "    </tr>\n",
       "    <tr>\n",
       "      <th>mean</th>\n",
       "      <td>2017.296288</td>\n",
       "      <td>24698.596920</td>\n",
       "      <td>21949.559037</td>\n",
       "      <td>129.972178</td>\n",
       "      <td>55.155843</td>\n",
       "      <td>2.071530</td>\n",
       "    </tr>\n",
       "    <tr>\n",
       "      <th>std</th>\n",
       "      <td>2.224709</td>\n",
       "      <td>11842.675542</td>\n",
       "      <td>21176.512267</td>\n",
       "      <td>65.260286</td>\n",
       "      <td>15.220082</td>\n",
       "      <td>0.572426</td>\n",
       "    </tr>\n",
       "    <tr>\n",
       "      <th>min</th>\n",
       "      <td>1970.000000</td>\n",
       "      <td>650.000000</td>\n",
       "      <td>1.000000</td>\n",
       "      <td>0.000000</td>\n",
       "      <td>1.100000</td>\n",
       "      <td>0.000000</td>\n",
       "    </tr>\n",
       "    <tr>\n",
       "      <th>25%</th>\n",
       "      <td>2016.000000</td>\n",
       "      <td>17450.000000</td>\n",
       "      <td>6097.500000</td>\n",
       "      <td>125.000000</td>\n",
       "      <td>45.600000</td>\n",
       "      <td>1.800000</td>\n",
       "    </tr>\n",
       "    <tr>\n",
       "      <th>50%</th>\n",
       "      <td>2018.000000</td>\n",
       "      <td>22480.000000</td>\n",
       "      <td>15189.000000</td>\n",
       "      <td>145.000000</td>\n",
       "      <td>56.500000</td>\n",
       "      <td>2.000000</td>\n",
       "    </tr>\n",
       "    <tr>\n",
       "      <th>75%</th>\n",
       "      <td>2019.000000</td>\n",
       "      <td>28980.000000</td>\n",
       "      <td>31779.500000</td>\n",
       "      <td>145.000000</td>\n",
       "      <td>64.200000</td>\n",
       "      <td>2.100000</td>\n",
       "    </tr>\n",
       "    <tr>\n",
       "      <th>max</th>\n",
       "      <td>2020.000000</td>\n",
       "      <td>159999.000000</td>\n",
       "      <td>259000.000000</td>\n",
       "      <td>580.000000</td>\n",
       "      <td>217.300000</td>\n",
       "      <td>6.200000</td>\n",
       "    </tr>\n",
       "  </tbody>\n",
       "</table>\n",
       "</div>"
      ],
      "text/plain": [
       "               year          price        mileage           tax           mpg  \\\n",
       "count  13119.000000   13119.000000   13119.000000  13119.000000  13119.000000   \n",
       "mean    2017.296288   24698.596920   21949.559037    129.972178     55.155843   \n",
       "std        2.224709   11842.675542   21176.512267     65.260286     15.220082   \n",
       "min     1970.000000     650.000000       1.000000      0.000000      1.100000   \n",
       "25%     2016.000000   17450.000000    6097.500000    125.000000     45.600000   \n",
       "50%     2018.000000   22480.000000   15189.000000    145.000000     56.500000   \n",
       "75%     2019.000000   28980.000000   31779.500000    145.000000     64.200000   \n",
       "max     2020.000000  159999.000000  259000.000000    580.000000    217.300000   \n",
       "\n",
       "         engineSize  \n",
       "count  13119.000000  \n",
       "mean       2.071530  \n",
       "std        0.572426  \n",
       "min        0.000000  \n",
       "25%        1.800000  \n",
       "50%        2.000000  \n",
       "75%        2.100000  \n",
       "max        6.200000  "
      ]
     },
     "execution_count": 4,
     "metadata": {},
     "output_type": "execute_result"
    }
   ],
   "source": [
    "dataFrame.describe()"
   ]
  },
  {
   "cell_type": "code",
   "execution_count": 5,
   "metadata": {},
   "outputs": [
    {
     "data": {
      "text/plain": [
       "year            0\n",
       "price           0\n",
       "transmission    0\n",
       "mileage         0\n",
       "tax             0\n",
       "mpg             0\n",
       "engineSize      0\n",
       "dtype: int64"
      ]
     },
     "execution_count": 5,
     "metadata": {},
     "output_type": "execute_result"
    }
   ],
   "source": [
    "dataFrame.isnull().sum()"
   ]
  },
  {
   "cell_type": "code",
   "execution_count": 9,
   "metadata": {},
   "outputs": [
    {
     "data": {
      "text/plain": [
       "<matplotlib.axes._subplots.AxesSubplot at 0x26f60edbc40>"
      ]
     },
     "execution_count": 9,
     "metadata": {},
     "output_type": "execute_result"
    },
    {
     "data": {
      "image/png": "[encoded data removed]",
      "text/plain": [
       "<Figure size 720x360 with 1 Axes>"
      ]
     },
     "metadata": {
      "needs_background": "light"
     },
     "output_type": "display_data"
    }
   ],
   "source": [
    "plt.figure(figsize=(10,5))\n",
    "sbn.distplot(dataFrame[\"price\"])"
   ]
  },
  {
   "cell_type": "code",
   "execution_count": 11,
   "metadata": {},
   "outputs": [
    {
     "data": {
      "text/plain": [
       "<matplotlib.axes._subplots.AxesSubplot at 0x26f5f6de340>"
      ]
     },
     "execution_count": 11,
     "metadata": {},
     "output_type": "execute_result"
    },
    {
     "data": {
      "image/png": "[encoded data removed]",
      "text/plain": [
       "<Figure size 720x360 with 1 Axes>"
      ]
     },
     "metadata": {
      "needs_background": "light"
     },
     "output_type": "display_data"
    }
   ],
   "source": [
    "plt.figure(figsize=(10,5))\n",
    "sbn.countplot(dataFrame[\"year\"])"
   ]
  },
  {
   "cell_type": "code",
   "execution_count": 12,
   "metadata": {},
   "outputs": [
    {
     "data": {
      "text/html": [
       "<div>\n",
       "<style scoped>\n",
       "    .dataframe tbody tr th:only-of-type {\n",
       "        vertical-align: middle;\n",
       "    }\n",
       "\n",
       "    .dataframe tbody tr th {\n",
       "        vertical-align: top;\n",
       "    }\n",
       "\n",
       "    .dataframe thead th {\n",
       "        text-align: right;\n",
       "    }\n",
       "</style>\n",
       "<table border=\"1\" class=\"dataframe\">\n",
       "  <thead>\n",
       "    <tr style=\"text-align: right;\">\n",
       "      <th></th>\n",
       "      <th>year</th>\n",
       "      <th>price</th>\n",
       "      <th>mileage</th>\n",
       "      <th>tax</th>\n",
       "      <th>mpg</th>\n",
       "      <th>engineSize</th>\n",
       "    </tr>\n",
       "  </thead>\n",
       "  <tbody>\n",
       "    <tr>\n",
       "      <th>year</th>\n",
       "      <td>1.000000</td>\n",
       "      <td>0.520712</td>\n",
       "      <td>-0.738027</td>\n",
       "      <td>0.012480</td>\n",
       "      <td>-0.094626</td>\n",
       "      <td>-0.142147</td>\n",
       "    </tr>\n",
       "    <tr>\n",
       "      <th>price</th>\n",
       "      <td>0.520712</td>\n",
       "      <td>1.000000</td>\n",
       "      <td>-0.537214</td>\n",
       "      <td>0.268717</td>\n",
       "      <td>-0.438445</td>\n",
       "      <td>0.516126</td>\n",
       "    </tr>\n",
       "    <tr>\n",
       "      <th>mileage</th>\n",
       "      <td>-0.738027</td>\n",
       "      <td>-0.537214</td>\n",
       "      <td>1.000000</td>\n",
       "      <td>-0.160223</td>\n",
       "      <td>0.202850</td>\n",
       "      <td>0.063652</td>\n",
       "    </tr>\n",
       "    <tr>\n",
       "      <th>tax</th>\n",
       "      <td>0.012480</td>\n",
       "      <td>0.268717</td>\n",
       "      <td>-0.160223</td>\n",
       "      <td>1.000000</td>\n",
       "      <td>-0.513742</td>\n",
       "      <td>0.338341</td>\n",
       "    </tr>\n",
       "    <tr>\n",
       "      <th>mpg</th>\n",
       "      <td>-0.094626</td>\n",
       "      <td>-0.438445</td>\n",
       "      <td>0.202850</td>\n",
       "      <td>-0.513742</td>\n",
       "      <td>1.000000</td>\n",
       "      <td>-0.339862</td>\n",
       "    </tr>\n",
       "    <tr>\n",
       "      <th>engineSize</th>\n",
       "      <td>-0.142147</td>\n",
       "      <td>0.516126</td>\n",
       "      <td>0.063652</td>\n",
       "      <td>0.338341</td>\n",
       "      <td>-0.339862</td>\n",
       "      <td>1.000000</td>\n",
       "    </tr>\n",
       "  </tbody>\n",
       "</table>\n",
       "</div>"
      ],
      "text/plain": [
       "                year     price   mileage       tax       mpg  engineSize\n",
       "year        1.000000  0.520712 -0.738027  0.012480 -0.094626   -0.142147\n",
       "price       0.520712  1.000000 -0.537214  0.268717 -0.438445    0.516126\n",
       "mileage    -0.738027 -0.537214  1.000000 -0.160223  0.202850    0.063652\n",
       "tax         0.012480  0.268717 -0.160223  1.000000 -0.513742    0.338341\n",
       "mpg        -0.094626 -0.438445  0.202850 -0.513742  1.000000   -0.339862\n",
       "engineSize -0.142147  0.516126  0.063652  0.338341 -0.339862    1.000000"
      ]
     },
     "execution_count": 12,
     "metadata": {},
     "output_type": "execute_result"
    }
   ],
   "source": [
    "dataFrame.corr()"
   ]
  },
  {
   "cell_type": "code",
   "execution_count": 13,
   "metadata": {},
   "outputs": [
    {
     "data": {
      "text/plain": [
       "mileage      -0.537214\n",
       "mpg          -0.438445\n",
       "tax           0.268717\n",
       "engineSize    0.516126\n",
       "year          0.520712\n",
       "price         1.000000\n",
       "Name: price, dtype: float64"
      ]
     },
     "execution_count": 13,
     "metadata": {},
     "output_type": "execute_result"
    }
   ],
   "source": [
    "dataFrame.corr()[\"price\"].sort_values()"
   ]
  },
  {
   "cell_type": "code",
   "execution_count": 15,
   "metadata": {},
   "outputs": [
    {
     "data": {
      "text/plain": [
       "<matplotlib.axes._subplots.AxesSubplot at 0x26f6271d3a0>"
      ]
     },
     "execution_count": 15,
     "metadata": {},
     "output_type": "execute_result"
    },
    {
     "data": {
      "image/png": "[encoded data removed]",
      "text/plain": [
       "<Figure size 720x360 with 1 Axes>"
      ]
     },
     "metadata": {
      "needs_background": "light"
     },
     "output_type": "display_data"
    }
   ],
   "source": [
    "plt.figure(figsize=(10,5))\n",
    "sbn.scatterplot(x=\"mileage\", y=\"price\", data = dataFrame)"
   ]
  },
  {
   "cell_type": "code",
   "execution_count": 17,
   "metadata": {},
   "outputs": [
    {
     "data": {
      "text/html": [
       "<div>\n",
       "<style scoped>\n",
       "    .dataframe tbody tr th:only-of-type {\n",
       "        vertical-align: middle;\n",
       "    }\n",
       "\n",
       "    .dataframe tbody tr th {\n",
       "        vertical-align: top;\n",
       "    }\n",
       "\n",
       "    .dataframe thead th {\n",
       "        text-align: right;\n",
       "    }\n",
       "</style>\n",
       "<table border=\"1\" class=\"dataframe\">\n",
       "  <thead>\n",
       "    <tr style=\"text-align: right;\">\n",
       "      <th></th>\n",
       "      <th>year</th>\n",
       "      <th>price</th>\n",
       "      <th>transmission</th>\n",
       "      <th>mileage</th>\n",
       "      <th>tax</th>\n",
       "      <th>mpg</th>\n",
       "      <th>engineSize</th>\n",
       "    </tr>\n",
       "  </thead>\n",
       "  <tbody>\n",
       "    <tr>\n",
       "      <th>6199</th>\n",
       "      <td>2020</td>\n",
       "      <td>159999</td>\n",
       "      <td>Semi-Auto</td>\n",
       "      <td>1350</td>\n",
       "      <td>145</td>\n",
       "      <td>21.4</td>\n",
       "      <td>4.0</td>\n",
       "    </tr>\n",
       "    <tr>\n",
       "      <th>10044</th>\n",
       "      <td>2020</td>\n",
       "      <td>154998</td>\n",
       "      <td>Automatic</td>\n",
       "      <td>3000</td>\n",
       "      <td>150</td>\n",
       "      <td>21.4</td>\n",
       "      <td>4.0</td>\n",
       "    </tr>\n",
       "    <tr>\n",
       "      <th>5</th>\n",
       "      <td>2011</td>\n",
       "      <td>149948</td>\n",
       "      <td>Automatic</td>\n",
       "      <td>3000</td>\n",
       "      <td>570</td>\n",
       "      <td>21.4</td>\n",
       "      <td>6.2</td>\n",
       "    </tr>\n",
       "    <tr>\n",
       "      <th>8737</th>\n",
       "      <td>2019</td>\n",
       "      <td>140319</td>\n",
       "      <td>Semi-Auto</td>\n",
       "      <td>785</td>\n",
       "      <td>150</td>\n",
       "      <td>22.1</td>\n",
       "      <td>4.0</td>\n",
       "    </tr>\n",
       "    <tr>\n",
       "      <th>6386</th>\n",
       "      <td>2018</td>\n",
       "      <td>139995</td>\n",
       "      <td>Semi-Auto</td>\n",
       "      <td>13046</td>\n",
       "      <td>145</td>\n",
       "      <td>21.4</td>\n",
       "      <td>4.0</td>\n",
       "    </tr>\n",
       "    <tr>\n",
       "      <th>8</th>\n",
       "      <td>2019</td>\n",
       "      <td>139948</td>\n",
       "      <td>Automatic</td>\n",
       "      <td>12000</td>\n",
       "      <td>145</td>\n",
       "      <td>21.4</td>\n",
       "      <td>4.0</td>\n",
       "    </tr>\n",
       "    <tr>\n",
       "      <th>9133</th>\n",
       "      <td>2019</td>\n",
       "      <td>139559</td>\n",
       "      <td>Semi-Auto</td>\n",
       "      <td>1000</td>\n",
       "      <td>145</td>\n",
       "      <td>22.1</td>\n",
       "      <td>4.0</td>\n",
       "    </tr>\n",
       "    <tr>\n",
       "      <th>8821</th>\n",
       "      <td>2020</td>\n",
       "      <td>138439</td>\n",
       "      <td>Semi-Auto</td>\n",
       "      <td>1000</td>\n",
       "      <td>145</td>\n",
       "      <td>22.1</td>\n",
       "      <td>4.0</td>\n",
       "    </tr>\n",
       "    <tr>\n",
       "      <th>5902</th>\n",
       "      <td>2018</td>\n",
       "      <td>135771</td>\n",
       "      <td>Semi-Auto</td>\n",
       "      <td>19000</td>\n",
       "      <td>145</td>\n",
       "      <td>21.4</td>\n",
       "      <td>4.0</td>\n",
       "    </tr>\n",
       "    <tr>\n",
       "      <th>7864</th>\n",
       "      <td>2018</td>\n",
       "      <td>135124</td>\n",
       "      <td>Semi-Auto</td>\n",
       "      <td>18234</td>\n",
       "      <td>150</td>\n",
       "      <td>21.4</td>\n",
       "      <td>4.0</td>\n",
       "    </tr>\n",
       "    <tr>\n",
       "      <th>8673</th>\n",
       "      <td>2019</td>\n",
       "      <td>134219</td>\n",
       "      <td>Semi-Auto</td>\n",
       "      <td>1000</td>\n",
       "      <td>145</td>\n",
       "      <td>24.8</td>\n",
       "      <td>4.0</td>\n",
       "    </tr>\n",
       "    <tr>\n",
       "      <th>6210</th>\n",
       "      <td>2019</td>\n",
       "      <td>129990</td>\n",
       "      <td>Automatic</td>\n",
       "      <td>1000</td>\n",
       "      <td>145</td>\n",
       "      <td>24.8</td>\n",
       "      <td>4.0</td>\n",
       "    </tr>\n",
       "    <tr>\n",
       "      <th>4759</th>\n",
       "      <td>2019</td>\n",
       "      <td>126000</td>\n",
       "      <td>Automatic</td>\n",
       "      <td>250</td>\n",
       "      <td>145</td>\n",
       "      <td>24.6</td>\n",
       "      <td>4.0</td>\n",
       "    </tr>\n",
       "    <tr>\n",
       "      <th>2647</th>\n",
       "      <td>2019</td>\n",
       "      <td>125796</td>\n",
       "      <td>Automatic</td>\n",
       "      <td>637</td>\n",
       "      <td>145</td>\n",
       "      <td>24.8</td>\n",
       "      <td>4.0</td>\n",
       "    </tr>\n",
       "    <tr>\n",
       "      <th>6223</th>\n",
       "      <td>2019</td>\n",
       "      <td>124999</td>\n",
       "      <td>Automatic</td>\n",
       "      <td>1500</td>\n",
       "      <td>145</td>\n",
       "      <td>31.7</td>\n",
       "      <td>4.0</td>\n",
       "    </tr>\n",
       "    <tr>\n",
       "      <th>4094</th>\n",
       "      <td>2019</td>\n",
       "      <td>124366</td>\n",
       "      <td>Semi-Auto</td>\n",
       "      <td>880</td>\n",
       "      <td>145</td>\n",
       "      <td>24.8</td>\n",
       "      <td>4.0</td>\n",
       "    </tr>\n",
       "    <tr>\n",
       "      <th>2629</th>\n",
       "      <td>2019</td>\n",
       "      <td>123846</td>\n",
       "      <td>Semi-Auto</td>\n",
       "      <td>2951</td>\n",
       "      <td>145</td>\n",
       "      <td>22.1</td>\n",
       "      <td>4.0</td>\n",
       "    </tr>\n",
       "    <tr>\n",
       "      <th>7134</th>\n",
       "      <td>2019</td>\n",
       "      <td>115359</td>\n",
       "      <td>Semi-Auto</td>\n",
       "      <td>1000</td>\n",
       "      <td>145</td>\n",
       "      <td>30.1</td>\n",
       "      <td>4.0</td>\n",
       "    </tr>\n",
       "    <tr>\n",
       "      <th>9159</th>\n",
       "      <td>2019</td>\n",
       "      <td>114199</td>\n",
       "      <td>Semi-Auto</td>\n",
       "      <td>891</td>\n",
       "      <td>145</td>\n",
       "      <td>22.6</td>\n",
       "      <td>4.0</td>\n",
       "    </tr>\n",
       "    <tr>\n",
       "      <th>1980</th>\n",
       "      <td>2019</td>\n",
       "      <td>109995</td>\n",
       "      <td>Semi-Auto</td>\n",
       "      <td>4688</td>\n",
       "      <td>150</td>\n",
       "      <td>31.7</td>\n",
       "      <td>4.0</td>\n",
       "    </tr>\n",
       "  </tbody>\n",
       "</table>\n",
       "</div>"
      ],
      "text/plain": [
       "       year   price transmission  mileage  tax   mpg  engineSize\n",
       "6199   2020  159999    Semi-Auto     1350  145  21.4         4.0\n",
       "10044  2020  154998    Automatic     3000  150  21.4         4.0\n",
       "5      2011  149948    Automatic     3000  570  21.4         6.2\n",
       "8737   2019  140319    Semi-Auto      785  150  22.1         4.0\n",
       "6386   2018  139995    Semi-Auto    13046  145  21.4         4.0\n",
       "8      2019  139948    Automatic    12000  145  21.4         4.0\n",
       "9133   2019  139559    Semi-Auto     1000  145  22.1         4.0\n",
       "8821   2020  138439    Semi-Auto     1000  145  22.1         4.0\n",
       "5902   2018  135771    Semi-Auto    19000  145  21.4         4.0\n",
       "7864   2018  135124    Semi-Auto    18234  150  21.4         4.0\n",
       "8673   2019  134219    Semi-Auto     1000  145  24.8         4.0\n",
       "6210   2019  129990    Automatic     1000  145  24.8         4.0\n",
       "4759   2019  126000    Automatic      250  145  24.6         4.0\n",
       "2647   2019  125796    Automatic      637  145  24.8         4.0\n",
       "6223   2019  124999    Automatic     1500  145  31.7         4.0\n",
       "4094   2019  124366    Semi-Auto      880  145  24.8         4.0\n",
       "2629   2019  123846    Semi-Auto     2951  145  22.1         4.0\n",
       "7134   2019  115359    Semi-Auto     1000  145  30.1         4.0\n",
       "9159   2019  114199    Semi-Auto      891  145  22.6         4.0\n",
       "1980   2019  109995    Semi-Auto     4688  150  31.7         4.0"
      ]
     },
     "execution_count": 17,
     "metadata": {},
     "output_type": "execute_result"
    }
   ],
   "source": [
    "dataFrame.sort_values(\"price\", ascending=False).head(20)"
   ]
  },
  {
   "cell_type": "code",
   "execution_count": 19,
   "metadata": {},
   "outputs": [
    {
     "data": {
      "text/html": [
       "<div>\n",
       "<style scoped>\n",
       "    .dataframe tbody tr th:only-of-type {\n",
       "        vertical-align: middle;\n",
       "    }\n",
       "\n",
       "    .dataframe tbody tr th {\n",
       "        vertical-align: top;\n",
       "    }\n",
       "\n",
       "    .dataframe thead th {\n",
       "        text-align: right;\n",
       "    }\n",
       "</style>\n",
       "<table border=\"1\" class=\"dataframe\">\n",
       "  <thead>\n",
       "    <tr style=\"text-align: right;\">\n",
       "      <th></th>\n",
       "      <th>year</th>\n",
       "      <th>price</th>\n",
       "      <th>transmission</th>\n",
       "      <th>mileage</th>\n",
       "      <th>tax</th>\n",
       "      <th>mpg</th>\n",
       "      <th>engineSize</th>\n",
       "    </tr>\n",
       "  </thead>\n",
       "  <tbody>\n",
       "    <tr>\n",
       "      <th>11816</th>\n",
       "      <td>2003</td>\n",
       "      <td>650</td>\n",
       "      <td>Manual</td>\n",
       "      <td>109090</td>\n",
       "      <td>235</td>\n",
       "      <td>40.0</td>\n",
       "      <td>1.4</td>\n",
       "    </tr>\n",
       "    <tr>\n",
       "      <th>12008</th>\n",
       "      <td>2010</td>\n",
       "      <td>1350</td>\n",
       "      <td>Manual</td>\n",
       "      <td>116126</td>\n",
       "      <td>145</td>\n",
       "      <td>54.3</td>\n",
       "      <td>2.0</td>\n",
       "    </tr>\n",
       "    <tr>\n",
       "      <th>11765</th>\n",
       "      <td>2000</td>\n",
       "      <td>1490</td>\n",
       "      <td>Automatic</td>\n",
       "      <td>87000</td>\n",
       "      <td>265</td>\n",
       "      <td>27.2</td>\n",
       "      <td>3.2</td>\n",
       "    </tr>\n",
       "    <tr>\n",
       "      <th>11549</th>\n",
       "      <td>2002</td>\n",
       "      <td>1495</td>\n",
       "      <td>Automatic</td>\n",
       "      <td>13800</td>\n",
       "      <td>305</td>\n",
       "      <td>39.8</td>\n",
       "      <td>2.7</td>\n",
       "    </tr>\n",
       "    <tr>\n",
       "      <th>12594</th>\n",
       "      <td>2004</td>\n",
       "      <td>1495</td>\n",
       "      <td>Manual</td>\n",
       "      <td>119000</td>\n",
       "      <td>300</td>\n",
       "      <td>34.5</td>\n",
       "      <td>1.8</td>\n",
       "    </tr>\n",
       "    <tr>\n",
       "      <th>11174</th>\n",
       "      <td>2001</td>\n",
       "      <td>1695</td>\n",
       "      <td>Automatic</td>\n",
       "      <td>108800</td>\n",
       "      <td>325</td>\n",
       "      <td>31.7</td>\n",
       "      <td>3.2</td>\n",
       "    </tr>\n",
       "    <tr>\n",
       "      <th>12710</th>\n",
       "      <td>2006</td>\n",
       "      <td>1695</td>\n",
       "      <td>Automatic</td>\n",
       "      <td>153000</td>\n",
       "      <td>300</td>\n",
       "      <td>33.6</td>\n",
       "      <td>1.8</td>\n",
       "    </tr>\n",
       "    <tr>\n",
       "      <th>12766</th>\n",
       "      <td>2004</td>\n",
       "      <td>1780</td>\n",
       "      <td>Automatic</td>\n",
       "      <td>118000</td>\n",
       "      <td>265</td>\n",
       "      <td>41.5</td>\n",
       "      <td>2.2</td>\n",
       "    </tr>\n",
       "    <tr>\n",
       "      <th>12009</th>\n",
       "      <td>2007</td>\n",
       "      <td>1800</td>\n",
       "      <td>Automatic</td>\n",
       "      <td>84000</td>\n",
       "      <td>200</td>\n",
       "      <td>42.8</td>\n",
       "      <td>1.5</td>\n",
       "    </tr>\n",
       "    <tr>\n",
       "      <th>11764</th>\n",
       "      <td>1998</td>\n",
       "      <td>1990</td>\n",
       "      <td>Automatic</td>\n",
       "      <td>99300</td>\n",
       "      <td>265</td>\n",
       "      <td>32.1</td>\n",
       "      <td>2.3</td>\n",
       "    </tr>\n",
       "    <tr>\n",
       "      <th>11808</th>\n",
       "      <td>1998</td>\n",
       "      <td>1990</td>\n",
       "      <td>Automatic</td>\n",
       "      <td>113557</td>\n",
       "      <td>265</td>\n",
       "      <td>32.1</td>\n",
       "      <td>2.3</td>\n",
       "    </tr>\n",
       "    <tr>\n",
       "      <th>11383</th>\n",
       "      <td>2005</td>\n",
       "      <td>1995</td>\n",
       "      <td>Automatic</td>\n",
       "      <td>105000</td>\n",
       "      <td>260</td>\n",
       "      <td>43.5</td>\n",
       "      <td>2.1</td>\n",
       "    </tr>\n",
       "    <tr>\n",
       "      <th>11378</th>\n",
       "      <td>2004</td>\n",
       "      <td>1995</td>\n",
       "      <td>Semi-Auto</td>\n",
       "      <td>165000</td>\n",
       "      <td>330</td>\n",
       "      <td>20.0</td>\n",
       "      <td>3.7</td>\n",
       "    </tr>\n",
       "    <tr>\n",
       "      <th>11857</th>\n",
       "      <td>2002</td>\n",
       "      <td>2140</td>\n",
       "      <td>Automatic</td>\n",
       "      <td>52700</td>\n",
       "      <td>325</td>\n",
       "      <td>31.4</td>\n",
       "      <td>2.0</td>\n",
       "    </tr>\n",
       "    <tr>\n",
       "      <th>11906</th>\n",
       "      <td>2007</td>\n",
       "      <td>2478</td>\n",
       "      <td>Automatic</td>\n",
       "      <td>81000</td>\n",
       "      <td>160</td>\n",
       "      <td>49.6</td>\n",
       "      <td>2.0</td>\n",
       "    </tr>\n",
       "    <tr>\n",
       "      <th>11795</th>\n",
       "      <td>2005</td>\n",
       "      <td>2490</td>\n",
       "      <td>Automatic</td>\n",
       "      <td>101980</td>\n",
       "      <td>200</td>\n",
       "      <td>47.9</td>\n",
       "      <td>2.0</td>\n",
       "    </tr>\n",
       "    <tr>\n",
       "      <th>12765</th>\n",
       "      <td>2004</td>\n",
       "      <td>2495</td>\n",
       "      <td>Automatic</td>\n",
       "      <td>104000</td>\n",
       "      <td>325</td>\n",
       "      <td>31.7</td>\n",
       "      <td>1.8</td>\n",
       "    </tr>\n",
       "    <tr>\n",
       "      <th>11943</th>\n",
       "      <td>2005</td>\n",
       "      <td>2690</td>\n",
       "      <td>Automatic</td>\n",
       "      <td>109000</td>\n",
       "      <td>325</td>\n",
       "      <td>32.1</td>\n",
       "      <td>1.8</td>\n",
       "    </tr>\n",
       "    <tr>\n",
       "      <th>11263</th>\n",
       "      <td>2007</td>\n",
       "      <td>2795</td>\n",
       "      <td>Manual</td>\n",
       "      <td>79485</td>\n",
       "      <td>200</td>\n",
       "      <td>45.6</td>\n",
       "      <td>1.5</td>\n",
       "    </tr>\n",
       "    <tr>\n",
       "      <th>49</th>\n",
       "      <td>2006</td>\n",
       "      <td>2880</td>\n",
       "      <td>Automatic</td>\n",
       "      <td>66000</td>\n",
       "      <td>160</td>\n",
       "      <td>52.3</td>\n",
       "      <td>2.0</td>\n",
       "    </tr>\n",
       "  </tbody>\n",
       "</table>\n",
       "</div>"
      ],
      "text/plain": [
       "       year  price transmission  mileage  tax   mpg  engineSize\n",
       "11816  2003    650       Manual   109090  235  40.0         1.4\n",
       "12008  2010   1350       Manual   116126  145  54.3         2.0\n",
       "11765  2000   1490    Automatic    87000  265  27.2         3.2\n",
       "11549  2002   1495    Automatic    13800  305  39.8         2.7\n",
       "12594  2004   1495       Manual   119000  300  34.5         1.8\n",
       "11174  2001   1695    Automatic   108800  325  31.7         3.2\n",
       "12710  2006   1695    Automatic   153000  300  33.6         1.8\n",
       "12766  2004   1780    Automatic   118000  265  41.5         2.2\n",
       "12009  2007   1800    Automatic    84000  200  42.8         1.5\n",
       "11764  1998   1990    Automatic    99300  265  32.1         2.3\n",
       "11808  1998   1990    Automatic   113557  265  32.1         2.3\n",
       "11383  2005   1995    Automatic   105000  260  43.5         2.1\n",
       "11378  2004   1995    Semi-Auto   165000  330  20.0         3.7\n",
       "11857  2002   2140    Automatic    52700  325  31.4         2.0\n",
       "11906  2007   2478    Automatic    81000  160  49.6         2.0\n",
       "11795  2005   2490    Automatic   101980  200  47.9         2.0\n",
       "12765  2004   2495    Automatic   104000  325  31.7         1.8\n",
       "11943  2005   2690    Automatic   109000  325  32.1         1.8\n",
       "11263  2007   2795       Manual    79485  200  45.6         1.5\n",
       "49     2006   2880    Automatic    66000  160  52.3         2.0"
      ]
     },
     "execution_count": 19,
     "metadata": {},
     "output_type": "execute_result"
    }
   ],
   "source": [
    "dataFrame.sort_values(\"price\", ascending=True).head(20)"
   ]
  },
  {
   "cell_type": "code",
   "execution_count": 20,
   "metadata": {},
   "outputs": [
    {
     "data": {
      "text/plain": [
       "13119"
      ]
     },
     "execution_count": 20,
     "metadata": {},
     "output_type": "execute_result"
    }
   ],
   "source": [
    "len(dataFrame)"
   ]
  },
  {
   "cell_type": "code",
   "execution_count": 21,
   "metadata": {},
   "outputs": [
    {
     "data": {
      "text/plain": [
       "131.19"
      ]
     },
     "execution_count": 21,
     "metadata": {},
     "output_type": "execute_result"
    }
   ],
   "source": [
    "len(dataFrame) * 0.01"
   ]
  },
  {
   "cell_type": "code",
   "execution_count": 23,
   "metadata": {},
   "outputs": [],
   "source": [
    "df = dataFrame.sort_values(\"price\", ascending=False).iloc[131:]"
   ]
  },
  {
   "cell_type": "code",
   "execution_count": 27,
   "metadata": {},
   "outputs": [
    {
     "data": {
      "text/html": [
       "<div>\n",
       "<style scoped>\n",
       "    .dataframe tbody tr th:only-of-type {\n",
       "        vertical-align: middle;\n",
       "    }\n",
       "\n",
       "    .dataframe tbody tr th {\n",
       "        vertical-align: top;\n",
       "    }\n",
       "\n",
       "    .dataframe thead th {\n",
       "        text-align: right;\n",
       "    }\n",
       "</style>\n",
       "<table border=\"1\" class=\"dataframe\">\n",
       "  <thead>\n",
       "    <tr style=\"text-align: right;\">\n",
       "      <th></th>\n",
       "      <th>year</th>\n",
       "      <th>price</th>\n",
       "      <th>mileage</th>\n",
       "      <th>tax</th>\n",
       "      <th>mpg</th>\n",
       "      <th>engineSize</th>\n",
       "    </tr>\n",
       "  </thead>\n",
       "  <tbody>\n",
       "    <tr>\n",
       "      <th>count</th>\n",
       "      <td>12988.000000</td>\n",
       "      <td>12988.000000</td>\n",
       "      <td>12988.000000</td>\n",
       "      <td>12988.000000</td>\n",
       "      <td>12988.000000</td>\n",
       "      <td>12988.000000</td>\n",
       "    </tr>\n",
       "    <tr>\n",
       "      <th>mean</th>\n",
       "      <td>2017.281876</td>\n",
       "      <td>24074.926933</td>\n",
       "      <td>22132.741146</td>\n",
       "      <td>129.689714</td>\n",
       "      <td>55.437142</td>\n",
       "      <td>2.050901</td>\n",
       "    </tr>\n",
       "    <tr>\n",
       "      <th>std</th>\n",
       "      <td>2.228515</td>\n",
       "      <td>9866.224575</td>\n",
       "      <td>21196.776401</td>\n",
       "      <td>65.183076</td>\n",
       "      <td>15.025999</td>\n",
       "      <td>0.532596</td>\n",
       "    </tr>\n",
       "    <tr>\n",
       "      <th>min</th>\n",
       "      <td>1970.000000</td>\n",
       "      <td>650.000000</td>\n",
       "      <td>1.000000</td>\n",
       "      <td>0.000000</td>\n",
       "      <td>1.100000</td>\n",
       "      <td>0.000000</td>\n",
       "    </tr>\n",
       "    <tr>\n",
       "      <th>25%</th>\n",
       "      <td>2016.000000</td>\n",
       "      <td>17357.500000</td>\n",
       "      <td>6322.000000</td>\n",
       "      <td>125.000000</td>\n",
       "      <td>45.600000</td>\n",
       "      <td>1.675000</td>\n",
       "    </tr>\n",
       "    <tr>\n",
       "      <th>50%</th>\n",
       "      <td>2018.000000</td>\n",
       "      <td>22299.000000</td>\n",
       "      <td>15369.500000</td>\n",
       "      <td>145.000000</td>\n",
       "      <td>56.500000</td>\n",
       "      <td>2.000000</td>\n",
       "    </tr>\n",
       "    <tr>\n",
       "      <th>75%</th>\n",
       "      <td>2019.000000</td>\n",
       "      <td>28706.000000</td>\n",
       "      <td>31982.250000</td>\n",
       "      <td>145.000000</td>\n",
       "      <td>64.200000</td>\n",
       "      <td>2.100000</td>\n",
       "    </tr>\n",
       "    <tr>\n",
       "      <th>max</th>\n",
       "      <td>2020.000000</td>\n",
       "      <td>65990.000000</td>\n",
       "      <td>259000.000000</td>\n",
       "      <td>580.000000</td>\n",
       "      <td>217.300000</td>\n",
       "      <td>6.200000</td>\n",
       "    </tr>\n",
       "  </tbody>\n",
       "</table>\n",
       "</div>"
      ],
      "text/plain": [
       "               year         price        mileage           tax           mpg  \\\n",
       "count  12988.000000  12988.000000   12988.000000  12988.000000  12988.000000   \n",
       "mean    2017.281876  24074.926933   22132.741146    129.689714     55.437142   \n",
       "std        2.228515   9866.224575   21196.776401     65.183076     15.025999   \n",
       "min     1970.000000    650.000000       1.000000      0.000000      1.100000   \n",
       "25%     2016.000000  17357.500000    6322.000000    125.000000     45.600000   \n",
       "50%     2018.000000  22299.000000   15369.500000    145.000000     56.500000   \n",
       "75%     2019.000000  28706.000000   31982.250000    145.000000     64.200000   \n",
       "max     2020.000000  65990.000000  259000.000000    580.000000    217.300000   \n",
       "\n",
       "         engineSize  \n",
       "count  12988.000000  \n",
       "mean       2.050901  \n",
       "std        0.532596  \n",
       "min        0.000000  \n",
       "25%        1.675000  \n",
       "50%        2.000000  \n",
       "75%        2.100000  \n",
       "max        6.200000  "
      ]
     },
     "execution_count": 27,
     "metadata": {},
     "output_type": "execute_result"
    }
   ],
   "source": [
    "df.describe()"
   ]
  },
  {
   "cell_type": "code",
   "execution_count": 29,
   "metadata": {},
   "outputs": [
    {
     "data": {
      "text/plain": [
       "<matplotlib.axes._subplots.AxesSubplot at 0x26f623572b0>"
      ]
     },
     "execution_count": 29,
     "metadata": {},
     "output_type": "execute_result"
    },
    {
     "data": {
      "image/png": "[encoded data removed]",
      "text/plain": [
       "<Figure size 720x360 with 1 Axes>"
      ]
     },
     "metadata": {
      "needs_background": "light"
     },
     "output_type": "display_data"
    }
   ],
   "source": [
    "plt.figure(figsize=(10,5))\n",
    "sbn.distplot(df[\"price\"])"
   ]
  },
  {
   "cell_type": "code",
   "execution_count": 30,
   "metadata": {},
   "outputs": [
    {
     "data": {
      "text/plain": [
       "year\n",
       "1970    24999.000000\n",
       "1997     9995.000000\n",
       "1998     8605.000000\n",
       "1999     5995.000000\n",
       "2000     5743.333333\n",
       "2001     4957.900000\n",
       "2002     5820.444444\n",
       "2003     4878.000000\n",
       "2004     4727.615385\n",
       "2005     4426.111111\n",
       "2006     4036.875000\n",
       "2007     5136.045455\n",
       "2008     6967.437500\n",
       "2009     6166.764706\n",
       "2010     8308.473684\n",
       "2011    12624.894737\n",
       "2012    10845.140351\n",
       "2013    11939.842466\n",
       "2014    14042.936864\n",
       "2015    16731.780020\n",
       "2016    19307.892948\n",
       "2017    21514.307854\n",
       "2018    25720.162918\n",
       "2019    31290.020865\n",
       "2020    35433.282337\n",
       "Name: price, dtype: float64"
      ]
     },
     "execution_count": 30,
     "metadata": {},
     "output_type": "execute_result"
    }
   ],
   "source": [
    "dataFrame.groupby(\"year\").mean()[\"price\"]"
   ]
  },
  {
   "cell_type": "code",
   "execution_count": 31,
   "metadata": {},
   "outputs": [
    {
     "data": {
      "text/plain": [
       "year\n",
       "1970    24999.000000\n",
       "1997     9995.000000\n",
       "1998     8605.000000\n",
       "1999     5995.000000\n",
       "2000     5743.333333\n",
       "2001     4957.900000\n",
       "2002     5820.444444\n",
       "2003     4878.000000\n",
       "2004     4727.615385\n",
       "2005     4426.111111\n",
       "2006     4036.875000\n",
       "2007     5136.045455\n",
       "2008     6967.437500\n",
       "2009     6166.764706\n",
       "2010     8308.473684\n",
       "2011     8913.459459\n",
       "2012    10845.140351\n",
       "2013    11939.842466\n",
       "2014    14042.936864\n",
       "2015    16647.822222\n",
       "2016    19223.558943\n",
       "2017    21356.280421\n",
       "2018    24800.844506\n",
       "2019    30289.524832\n",
       "2020    34234.794872\n",
       "Name: price, dtype: float64"
      ]
     },
     "execution_count": 31,
     "metadata": {},
     "output_type": "execute_result"
    }
   ],
   "source": [
    "df.groupby(\"year\").mean()[\"price\"]"
   ]
  },
  {
   "cell_type": "code",
   "execution_count": 32,
   "metadata": {},
   "outputs": [
    {
     "data": {
      "text/plain": [
       "year\n",
       "1997     9995.000000\n",
       "1998     8605.000000\n",
       "1999     5995.000000\n",
       "2000     5743.333333\n",
       "2001     4957.900000\n",
       "2002     5820.444444\n",
       "2003     4878.000000\n",
       "2004     4727.615385\n",
       "2005     4426.111111\n",
       "2006     4036.875000\n",
       "2007     5136.045455\n",
       "2008     6967.437500\n",
       "2009     6166.764706\n",
       "2010     8308.473684\n",
       "2011    12624.894737\n",
       "2012    10845.140351\n",
       "2013    11939.842466\n",
       "2014    14042.936864\n",
       "2015    16731.780020\n",
       "2016    19307.892948\n",
       "2017    21514.307854\n",
       "2018    25720.162918\n",
       "2019    31290.020865\n",
       "2020    35433.282337\n",
       "Name: price, dtype: float64"
      ]
     },
     "execution_count": 32,
     "metadata": {},
     "output_type": "execute_result"
    }
   ],
   "source": [
    "dataFrame[dataFrame.year != 1970].groupby(\"year\").mean()[\"price\"]"
   ]
  },
  {
   "cell_type": "code",
   "execution_count": 33,
   "metadata": {},
   "outputs": [],
   "source": [
    "dataFrame = df"
   ]
  },
  {
   "cell_type": "code",
   "execution_count": 36,
   "metadata": {},
   "outputs": [
    {
     "data": {
      "text/html": [
       "<div>\n",
       "<style scoped>\n",
       "    .dataframe tbody tr th:only-of-type {\n",
       "        vertical-align: middle;\n",
       "    }\n",
       "\n",
       "    .dataframe tbody tr th {\n",
       "        vertical-align: top;\n",
       "    }\n",
       "\n",
       "    .dataframe thead th {\n",
       "        text-align: right;\n",
       "    }\n",
       "</style>\n",
       "<table border=\"1\" class=\"dataframe\">\n",
       "  <thead>\n",
       "    <tr style=\"text-align: right;\">\n",
       "      <th></th>\n",
       "      <th>year</th>\n",
       "      <th>price</th>\n",
       "      <th>mileage</th>\n",
       "      <th>tax</th>\n",
       "      <th>mpg</th>\n",
       "      <th>engineSize</th>\n",
       "    </tr>\n",
       "  </thead>\n",
       "  <tbody>\n",
       "    <tr>\n",
       "      <th>count</th>\n",
       "      <td>12988.000000</td>\n",
       "      <td>12988.000000</td>\n",
       "      <td>12988.000000</td>\n",
       "      <td>12988.000000</td>\n",
       "      <td>12988.000000</td>\n",
       "      <td>12988.000000</td>\n",
       "    </tr>\n",
       "    <tr>\n",
       "      <th>mean</th>\n",
       "      <td>2017.281876</td>\n",
       "      <td>24074.926933</td>\n",
       "      <td>22132.741146</td>\n",
       "      <td>129.689714</td>\n",
       "      <td>55.437142</td>\n",
       "      <td>2.050901</td>\n",
       "    </tr>\n",
       "    <tr>\n",
       "      <th>std</th>\n",
       "      <td>2.228515</td>\n",
       "      <td>9866.224575</td>\n",
       "      <td>21196.776401</td>\n",
       "      <td>65.183076</td>\n",
       "      <td>15.025999</td>\n",
       "      <td>0.532596</td>\n",
       "    </tr>\n",
       "    <tr>\n",
       "      <th>min</th>\n",
       "      <td>1970.000000</td>\n",
       "      <td>650.000000</td>\n",
       "      <td>1.000000</td>\n",
       "      <td>0.000000</td>\n",
       "      <td>1.100000</td>\n",
       "      <td>0.000000</td>\n",
       "    </tr>\n",
       "    <tr>\n",
       "      <th>25%</th>\n",
       "      <td>2016.000000</td>\n",
       "      <td>17357.500000</td>\n",
       "      <td>6322.000000</td>\n",
       "      <td>125.000000</td>\n",
       "      <td>45.600000</td>\n",
       "      <td>1.675000</td>\n",
       "    </tr>\n",
       "    <tr>\n",
       "      <th>50%</th>\n",
       "      <td>2018.000000</td>\n",
       "      <td>22299.000000</td>\n",
       "      <td>15369.500000</td>\n",
       "      <td>145.000000</td>\n",
       "      <td>56.500000</td>\n",
       "      <td>2.000000</td>\n",
       "    </tr>\n",
       "    <tr>\n",
       "      <th>75%</th>\n",
       "      <td>2019.000000</td>\n",
       "      <td>28706.000000</td>\n",
       "      <td>31982.250000</td>\n",
       "      <td>145.000000</td>\n",
       "      <td>64.200000</td>\n",
       "      <td>2.100000</td>\n",
       "    </tr>\n",
       "    <tr>\n",
       "      <th>max</th>\n",
       "      <td>2020.000000</td>\n",
       "      <td>65990.000000</td>\n",
       "      <td>259000.000000</td>\n",
       "      <td>580.000000</td>\n",
       "      <td>217.300000</td>\n",
       "      <td>6.200000</td>\n",
       "    </tr>\n",
       "  </tbody>\n",
       "</table>\n",
       "</div>"
      ],
      "text/plain": [
       "               year         price        mileage           tax           mpg  \\\n",
       "count  12988.000000  12988.000000   12988.000000  12988.000000  12988.000000   \n",
       "mean    2017.281876  24074.926933   22132.741146    129.689714     55.437142   \n",
       "std        2.228515   9866.224575   21196.776401     65.183076     15.025999   \n",
       "min     1970.000000    650.000000       1.000000      0.000000      1.100000   \n",
       "25%     2016.000000  17357.500000    6322.000000    125.000000     45.600000   \n",
       "50%     2018.000000  22299.000000   15369.500000    145.000000     56.500000   \n",
       "75%     2019.000000  28706.000000   31982.250000    145.000000     64.200000   \n",
       "max     2020.000000  65990.000000  259000.000000    580.000000    217.300000   \n",
       "\n",
       "         engineSize  \n",
       "count  12988.000000  \n",
       "mean       2.050901  \n",
       "std        0.532596  \n",
       "min        0.000000  \n",
       "25%        1.675000  \n",
       "50%        2.000000  \n",
       "75%        2.100000  \n",
       "max        6.200000  "
      ]
     },
     "execution_count": 36,
     "metadata": {},
     "output_type": "execute_result"
    }
   ],
   "source": [
    "dataFrame.describe()"
   ]
  },
  {
   "cell_type": "code",
   "execution_count": 38,
   "metadata": {},
   "outputs": [],
   "source": [
    "dataFrame = dataFrame.drop(\"transmission\", axis = 1)"
   ]
  },
  {
   "cell_type": "code",
   "execution_count": 39,
   "metadata": {},
   "outputs": [],
   "source": [
    "y = dataFrame[\"price\"].values\n",
    "x = dataFrame.drop(\"price\", axis = 1).values"
   ]
  },
  {
   "cell_type": "code",
   "execution_count": 40,
   "metadata": {},
   "outputs": [
    {
     "data": {
      "text/plain": [
       "array([65990, 65990, 65980, ...,  1490,  1350,   650], dtype=int64)"
      ]
     },
     "execution_count": 40,
     "metadata": {},
     "output_type": "execute_result"
    }
   ],
   "source": [
    "y"
   ]
  },
  {
   "cell_type": "code",
   "execution_count": 41,
   "metadata": {},
   "outputs": [
    {
     "data": {
      "text/plain": [
       "array([[2.01900e+03, 5.07600e+03, 1.50000e+02, 3.04000e+01, 3.00000e+00],\n",
       "       [2.02000e+03, 9.99000e+02, 1.45000e+02, 2.80000e+01, 4.00000e+00],\n",
       "       [2.02000e+03, 3.99900e+03, 1.45000e+02, 2.80000e+01, 4.00000e+00],\n",
       "       ...,\n",
       "       [2.00000e+03, 8.70000e+04, 2.65000e+02, 2.72000e+01, 3.20000e+00],\n",
       "       [2.01000e+03, 1.16126e+05, 1.45000e+02, 5.43000e+01, 2.00000e+00],\n",
       "       [2.00300e+03, 1.09090e+05, 2.35000e+02, 4.00000e+01, 1.40000e+00]])"
      ]
     },
     "execution_count": 41,
     "metadata": {},
     "output_type": "execute_result"
    }
   ],
   "source": [
    "x"
   ]
  },
  {
   "cell_type": "code",
   "execution_count": 42,
   "metadata": {},
   "outputs": [],
   "source": [
    "from sklearn.model_selection import train_test_split"
   ]
  },
  {
   "cell_type": "code",
   "execution_count": 43,
   "metadata": {},
   "outputs": [],
   "source": [
    "x_train, x_test, y_train, y_test = train_test_split(x,y,test_size=0.3,random_state=10)"
   ]
  },
  {
   "cell_type": "code",
   "execution_count": 44,
   "metadata": {},
   "outputs": [
    {
     "data": {
      "text/plain": [
       "9091"
      ]
     },
     "execution_count": 44,
     "metadata": {},
     "output_type": "execute_result"
    }
   ],
   "source": [
    "len(x_train)"
   ]
  },
  {
   "cell_type": "code",
   "execution_count": 45,
   "metadata": {},
   "outputs": [
    {
     "data": {
      "text/plain": [
       "3897"
      ]
     },
     "execution_count": 45,
     "metadata": {},
     "output_type": "execute_result"
    }
   ],
   "source": [
    "len(x_test)"
   ]
  },
  {
   "cell_type": "code",
   "execution_count": 46,
   "metadata": {},
   "outputs": [],
   "source": [
    "from sklearn.preprocessing import MinMaxScaler"
   ]
  },
  {
   "cell_type": "code",
   "execution_count": 47,
   "metadata": {},
   "outputs": [],
   "source": [
    "scaler = MinMaxScaler()"
   ]
  },
  {
   "cell_type": "code",
   "execution_count": 48,
   "metadata": {},
   "outputs": [],
   "source": [
    "x_train = scaler.fit_transform(x_train)"
   ]
  },
  {
   "cell_type": "code",
   "execution_count": 53,
   "metadata": {},
   "outputs": [],
   "source": [
    "x_test = scaler.transform(x_test)"
   ]
  },
  {
   "cell_type": "code",
   "execution_count": 54,
   "metadata": {},
   "outputs": [],
   "source": [
    "from tensorflow.keras.models import Sequential\n",
    "from tensorflow.keras.layers import Dense"
   ]
  },
  {
   "cell_type": "code",
   "execution_count": 55,
   "metadata": {},
   "outputs": [
    {
     "data": {
      "text/plain": [
       "(9091, 5)"
      ]
     },
     "execution_count": 55,
     "metadata": {},
     "output_type": "execute_result"
    }
   ],
   "source": [
    "x_train.shape"
   ]
  },
  {
   "cell_type": "code",
   "execution_count": 59,
   "metadata": {},
   "outputs": [],
   "source": [
    "model = Sequential()\n",
    "\n",
    "model.add(Dense(12,activation=\"relu\"))\n",
    "model.add(Dense(12,activation=\"relu\"))\n",
    "model.add(Dense(12,activation=\"relu\"))\n",
    "model.add(Dense(12,activation=\"relu\"))\n",
    "\n",
    "model.add(Dense(1))\n",
    "\n",
    "model.compile(optimizer = \"adam\",loss=\"mse\")\n"
   ]
  },
  {
   "cell_type": "code",
   "execution_count": 60,
   "metadata": {},
   "outputs": [
    {
     "name": "stdout",
     "output_type": "stream",
     "text": [
      "Epoch 1/300\n",
      "37/37 [==============================] - 0s 3ms/step - loss: 672927744.0000 - val_loss: 686310528.0000\n",
      "Epoch 2/300\n",
      "37/37 [==============================] - 0s 1ms/step - loss: 672917504.0000 - val_loss: 686265536.0000\n",
      "Epoch 3/300\n",
      "37/37 [==============================] - 0s 1ms/step - loss: 672906688.0000 - val_loss: 686182144.0000\n",
      "Epoch 4/300\n",
      "37/37 [==============================] - 0s 1ms/step - loss: 672865472.0000 - val_loss: 685987328.0000\n",
      "Epoch 5/300\n",
      "37/37 [==============================] - 0s 1ms/step - loss: 672673472.0000 - val_loss: 685546560.0000\n",
      "Epoch 6/300\n",
      "37/37 [==============================] - 0s 1ms/step - loss: 672006656.0000 - val_loss: 684577600.0000\n",
      "Epoch 7/300\n",
      "37/37 [==============================] - 0s 1ms/step - loss: 670206016.0000 - val_loss: 683288640.0000\n",
      "Epoch 8/300\n",
      "37/37 [==============================] - 0s 1ms/step - loss: 666068096.0000 - val_loss: 681636160.0000\n",
      "Epoch 9/300\n",
      "37/37 [==============================] - 0s 1ms/step - loss: 657823552.0000 - val_loss: 679078912.0000\n",
      "Epoch 10/300\n",
      "37/37 [==============================] - 0s 1ms/step - loss: 643136832.0000 - val_loss: 675751168.0000\n",
      "Epoch 11/300\n",
      "37/37 [==============================] - 0s 1ms/step - loss: 619233664.0000 - val_loss: 671584896.0000\n",
      "Epoch 12/300\n",
      "37/37 [==============================] - 0s 1ms/step - loss: 582731008.0000 - val_loss: 666521536.0000\n",
      "Epoch 13/300\n",
      "37/37 [==============================] - 0s 1ms/step - loss: 530433536.0000 - val_loss: 660546432.0000\n",
      "Epoch 14/300\n",
      "37/37 [==============================] - 0s 1ms/step - loss: 461341216.0000 - val_loss: 653722752.0000\n",
      "Epoch 15/300\n",
      "37/37 [==============================] - 0s 1ms/step - loss: 378787552.0000 - val_loss: 646270912.0000\n",
      "Epoch 16/300\n",
      "37/37 [==============================] - 0s 1ms/step - loss: 290671424.0000 - val_loss: 638538304.0000\n",
      "Epoch 17/300\n",
      "37/37 [==============================] - 0s 1ms/step - loss: 210007792.0000 - val_loss: 631091712.0000\n",
      "Epoch 18/300\n",
      "37/37 [==============================] - 0s 1ms/step - loss: 149185376.0000 - val_loss: 624611840.0000\n",
      "Epoch 19/300\n",
      "37/37 [==============================] - 0s 1ms/step - loss: 114233992.0000 - val_loss: 619805184.0000\n",
      "Epoch 20/300\n",
      "37/37 [==============================] - 0s 1ms/step - loss: 99483904.0000 - val_loss: 616829824.0000\n",
      "Epoch 21/300\n",
      "37/37 [==============================] - 0s 1ms/step - loss: 94852136.0000 - val_loss: 615321536.0000\n",
      "Epoch 22/300\n",
      "37/37 [==============================] - 0s 1ms/step - loss: 93412744.0000 - val_loss: 614670656.0000\n",
      "Epoch 23/300\n",
      "37/37 [==============================] - 0s 1ms/step - loss: 92730840.0000 - val_loss: 614273792.0000\n",
      "Epoch 24/300\n",
      "37/37 [==============================] - 0s 1ms/step - loss: 92194616.0000 - val_loss: 614199424.0000\n",
      "Epoch 25/300\n",
      "37/37 [==============================] - 0s 1ms/step - loss: 91690384.0000 - val_loss: 614118528.0000\n",
      "Epoch 26/300\n",
      "37/37 [==============================] - 0s 1ms/step - loss: 91210256.0000 - val_loss: 614141056.0000\n",
      "Epoch 27/300\n",
      "37/37 [==============================] - 0s 1ms/step - loss: 90754768.0000 - val_loss: 614087232.0000\n",
      "Epoch 28/300\n",
      "37/37 [==============================] - 0s 1ms/step - loss: 90293864.0000 - val_loss: 614104768.0000\n",
      "Epoch 29/300\n",
      "37/37 [==============================] - 0s 1ms/step - loss: 89853824.0000 - val_loss: 614037120.0000\n",
      "Epoch 30/300\n",
      "37/37 [==============================] - 0s 1ms/step - loss: 89420224.0000 - val_loss: 614036160.0000\n",
      "Epoch 31/300\n",
      "37/37 [==============================] - 0s 1ms/step - loss: 88990560.0000 - val_loss: 613914496.0000\n",
      "Epoch 32/300\n",
      "37/37 [==============================] - 0s 1ms/step - loss: 88565120.0000 - val_loss: 613949504.0000\n",
      "Epoch 33/300\n",
      "37/37 [==============================] - 0s 1ms/step - loss: 88153768.0000 - val_loss: 613939648.0000\n",
      "Epoch 34/300\n",
      "37/37 [==============================] - 0s 1ms/step - loss: 87743592.0000 - val_loss: 613848128.0000\n",
      "Epoch 35/300\n",
      "37/37 [==============================] - 0s 1ms/step - loss: 87329376.0000 - val_loss: 613820416.0000\n",
      "Epoch 36/300\n",
      "37/37 [==============================] - 0s 1ms/step - loss: 86932256.0000 - val_loss: 613819776.0000\n",
      "Epoch 37/300\n",
      "37/37 [==============================] - 0s 1ms/step - loss: 86523376.0000 - val_loss: 613692032.0000\n",
      "Epoch 38/300\n",
      "37/37 [==============================] - 0s 1ms/step - loss: 86123312.0000 - val_loss: 613688192.0000\n",
      "Epoch 39/300\n",
      "37/37 [==============================] - 0s 1ms/step - loss: 85723672.0000 - val_loss: 613664256.0000\n",
      "Epoch 40/300\n",
      "37/37 [==============================] - 0s 1ms/step - loss: 85317064.0000 - val_loss: 613670336.0000\n",
      "Epoch 41/300\n",
      "37/37 [==============================] - 0s 1ms/step - loss: 84923760.0000 - val_loss: 613518336.0000\n",
      "Epoch 42/300\n",
      "37/37 [==============================] - 0s 1ms/step - loss: 84523768.0000 - val_loss: 613525696.0000\n",
      "Epoch 43/300\n",
      "37/37 [==============================] - 0s 1ms/step - loss: 84122008.0000 - val_loss: 613489152.0000\n",
      "Epoch 44/300\n",
      "37/37 [==============================] - 0s 1ms/step - loss: 83724160.0000 - val_loss: 613464128.0000\n",
      "Epoch 45/300\n",
      "37/37 [==============================] - 0s 1ms/step - loss: 83336352.0000 - val_loss: 613394432.0000\n",
      "Epoch 46/300\n",
      "37/37 [==============================] - 0s 1ms/step - loss: 82932616.0000 - val_loss: 613290048.0000\n",
      "Epoch 47/300\n",
      "37/37 [==============================] - 0s 1ms/step - loss: 82541392.0000 - val_loss: 613229312.0000\n",
      "Epoch 48/300\n",
      "37/37 [==============================] - 0s 1ms/step - loss: 82142984.0000 - val_loss: 613260928.0000\n",
      "Epoch 49/300\n",
      "37/37 [==============================] - 0s 1ms/step - loss: 81734568.0000 - val_loss: 613126976.0000\n",
      "Epoch 50/300\n",
      "37/37 [==============================] - 0s 1ms/step - loss: 81332800.0000 - val_loss: 613160704.0000\n",
      "Epoch 51/300\n",
      "37/37 [==============================] - 0s 1ms/step - loss: 80925208.0000 - val_loss: 612991168.0000\n",
      "Epoch 52/300\n",
      "37/37 [==============================] - 0s 1ms/step - loss: 80515152.0000 - val_loss: 612952064.0000\n",
      "Epoch 53/300\n",
      "37/37 [==============================] - 0s 1ms/step - loss: 80104496.0000 - val_loss: 612857344.0000\n",
      "Epoch 54/300\n",
      "37/37 [==============================] - 0s 1ms/step - loss: 79694520.0000 - val_loss: 612757568.0000\n",
      "Epoch 55/300\n",
      "37/37 [==============================] - 0s 1ms/step - loss: 79286064.0000 - val_loss: 612731776.0000\n",
      "Epoch 56/300\n",
      "37/37 [==============================] - 0s 1ms/step - loss: 78876432.0000 - val_loss: 612606016.0000\n",
      "Epoch 57/300\n",
      "37/37 [==============================] - 0s 1ms/step - loss: 78451296.0000 - val_loss: 612463552.0000\n",
      "Epoch 58/300\n",
      "37/37 [==============================] - 0s 1ms/step - loss: 78034536.0000 - val_loss: 612369152.0000\n",
      "Epoch 59/300\n",
      "37/37 [==============================] - 0s 1ms/step - loss: 77601520.0000 - val_loss: 612172992.0000\n",
      "Epoch 60/300\n",
      "37/37 [==============================] - 0s 1ms/step - loss: 77178904.0000 - val_loss: 612188928.0000\n",
      "Epoch 61/300\n",
      "37/37 [==============================] - 0s 1ms/step - loss: 76755520.0000 - val_loss: 611969856.0000\n",
      "Epoch 62/300\n",
      "37/37 [==============================] - 0s 1ms/step - loss: 76315480.0000 - val_loss: 611768192.0000\n",
      "Epoch 63/300\n",
      "37/37 [==============================] - 0s 970us/step - loss: 75865416.0000 - val_loss: 611800832.0000\n",
      "Epoch 64/300\n",
      "37/37 [==============================] - 0s 997us/step - loss: 75432920.0000 - val_loss: 611479552.0000\n",
      "Epoch 65/300\n",
      "37/37 [==============================] - 0s 998us/step - loss: 74982616.0000 - val_loss: 611350976.0000\n",
      "Epoch 66/300\n",
      "37/37 [==============================] - 0s 1ms/step - loss: 74524456.0000 - val_loss: 611317952.0000\n",
      "Epoch 67/300\n",
      "37/37 [==============================] - 0s 1ms/step - loss: 74057208.0000 - val_loss: 611037440.0000\n",
      "Epoch 68/300\n",
      "37/37 [==============================] - 0s 997us/step - loss: 73609840.0000 - val_loss: 610842176.0000\n",
      "Epoch 69/300\n",
      "37/37 [==============================] - 0s 1ms/step - loss: 73141784.0000 - val_loss: 610630784.0000\n",
      "Epoch 70/300\n",
      "37/37 [==============================] - 0s 1ms/step - loss: 72675160.0000 - val_loss: 610531200.0000\n",
      "Epoch 71/300\n",
      "37/37 [==============================] - 0s 1ms/step - loss: 72182688.0000 - val_loss: 610265152.0000\n",
      "Epoch 72/300\n"
     ]
    },
    {
     "name": "stdout",
     "output_type": "stream",
     "text": [
      "37/37 [==============================] - 0s 1ms/step - loss: 71709168.0000 - val_loss: 610041664.0000\n",
      "Epoch 73/300\n",
      "37/37 [==============================] - 0s 1ms/step - loss: 71206672.0000 - val_loss: 609879232.0000\n",
      "Epoch 74/300\n",
      "37/37 [==============================] - 0s 1ms/step - loss: 70712928.0000 - val_loss: 609376448.0000\n",
      "Epoch 75/300\n",
      "37/37 [==============================] - 0s 1ms/step - loss: 70193312.0000 - val_loss: 609281344.0000\n",
      "Epoch 76/300\n",
      "37/37 [==============================] - 0s 1ms/step - loss: 69689160.0000 - val_loss: 608924096.0000\n",
      "Epoch 77/300\n",
      "37/37 [==============================] - 0s 1ms/step - loss: 69173672.0000 - val_loss: 608659136.0000\n",
      "Epoch 78/300\n",
      "37/37 [==============================] - 0s 1ms/step - loss: 68643888.0000 - val_loss: 608275520.0000\n",
      "Epoch 79/300\n",
      "37/37 [==============================] - 0s 1ms/step - loss: 68105232.0000 - val_loss: 608009792.0000\n",
      "Epoch 80/300\n",
      "37/37 [==============================] - 0s 1ms/step - loss: 67571408.0000 - val_loss: 607578176.0000\n",
      "Epoch 81/300\n",
      "37/37 [==============================] - 0s 1ms/step - loss: 67034996.0000 - val_loss: 607280576.0000\n",
      "Epoch 82/300\n",
      "37/37 [==============================] - 0s 1ms/step - loss: 66453200.0000 - val_loss: 606864448.0000\n",
      "Epoch 83/300\n",
      "37/37 [==============================] - 0s 1ms/step - loss: 65893444.0000 - val_loss: 606356608.0000\n",
      "Epoch 84/300\n",
      "37/37 [==============================] - 0s 1ms/step - loss: 65299404.0000 - val_loss: 605955008.0000\n",
      "Epoch 85/300\n",
      "37/37 [==============================] - 0s 1ms/step - loss: 64716528.0000 - val_loss: 605545472.0000\n",
      "Epoch 86/300\n",
      "37/37 [==============================] - 0s 1ms/step - loss: 64112056.0000 - val_loss: 605038848.0000\n",
      "Epoch 87/300\n",
      "37/37 [==============================] - 0s 1ms/step - loss: 63498760.0000 - val_loss: 604590400.0000\n",
      "Epoch 88/300\n",
      "37/37 [==============================] - 0s 985us/step - loss: 62889568.0000 - val_loss: 604086208.0000\n",
      "Epoch 89/300\n",
      "37/37 [==============================] - 0s 1ms/step - loss: 62247840.0000 - val_loss: 603480000.0000\n",
      "Epoch 90/300\n",
      "37/37 [==============================] - 0s 1ms/step - loss: 61615072.0000 - val_loss: 602822784.0000\n",
      "Epoch 91/300\n",
      "37/37 [==============================] - 0s 997us/step - loss: 60981028.0000 - val_loss: 602192192.0000\n",
      "Epoch 92/300\n",
      "37/37 [==============================] - 0s 1ms/step - loss: 60327992.0000 - val_loss: 601726656.0000\n",
      "Epoch 93/300\n",
      "37/37 [==============================] - 0s 1ms/step - loss: 59662728.0000 - val_loss: 600955392.0000\n",
      "Epoch 94/300\n",
      "37/37 [==============================] - 0s 1ms/step - loss: 58995608.0000 - val_loss: 600408384.0000\n",
      "Epoch 95/300\n",
      "37/37 [==============================] - 0s 1ms/step - loss: 58313224.0000 - val_loss: 599539072.0000\n",
      "Epoch 96/300\n",
      "37/37 [==============================] - 0s 1ms/step - loss: 57627172.0000 - val_loss: 598969280.0000\n",
      "Epoch 97/300\n",
      "37/37 [==============================] - 0s 1ms/step - loss: 56932192.0000 - val_loss: 598162752.0000\n",
      "Epoch 98/300\n",
      "37/37 [==============================] - 0s 1ms/step - loss: 56215840.0000 - val_loss: 597233344.0000\n",
      "Epoch 99/300\n",
      "37/37 [==============================] - 0s 1ms/step - loss: 55527832.0000 - val_loss: 596531840.0000\n",
      "Epoch 100/300\n",
      "37/37 [==============================] - 0s 1ms/step - loss: 54776740.0000 - val_loss: 595512576.0000\n",
      "Epoch 101/300\n",
      "37/37 [==============================] - 0s 1ms/step - loss: 54049948.0000 - val_loss: 594681472.0000\n",
      "Epoch 102/300\n",
      "37/37 [==============================] - 0s 1ms/step - loss: 53348264.0000 - val_loss: 593670016.0000\n",
      "Epoch 103/300\n",
      "37/37 [==============================] - 0s 1ms/step - loss: 52582004.0000 - val_loss: 592843776.0000\n",
      "Epoch 104/300\n",
      "37/37 [==============================] - 0s 1ms/step - loss: 51841032.0000 - val_loss: 591942784.0000\n",
      "Epoch 105/300\n",
      "37/37 [==============================] - 0s 1ms/step - loss: 51093056.0000 - val_loss: 590701504.0000\n",
      "Epoch 106/300\n",
      "37/37 [==============================] - 0s 1ms/step - loss: 50330496.0000 - val_loss: 589882944.0000\n",
      "Epoch 107/300\n",
      "37/37 [==============================] - 0s 1ms/step - loss: 49575792.0000 - val_loss: 588825216.0000\n",
      "Epoch 108/300\n",
      "37/37 [==============================] - 0s 1ms/step - loss: 48829456.0000 - val_loss: 587753536.0000\n",
      "Epoch 109/300\n",
      "37/37 [==============================] - 0s 1ms/step - loss: 48052884.0000 - val_loss: 586496512.0000\n",
      "Epoch 110/300\n",
      "37/37 [==============================] - 0s 1ms/step - loss: 47288484.0000 - val_loss: 585425472.0000\n",
      "Epoch 111/300\n",
      "37/37 [==============================] - 0s 1ms/step - loss: 46532104.0000 - val_loss: 584173952.0000\n",
      "Epoch 112/300\n",
      "37/37 [==============================] - 0s 1ms/step - loss: 45786084.0000 - val_loss: 583001728.0000\n",
      "Epoch 113/300\n",
      "37/37 [==============================] - 0s 1ms/step - loss: 45009980.0000 - val_loss: 581816960.0000\n",
      "Epoch 114/300\n",
      "37/37 [==============================] - 0s 1ms/step - loss: 44262608.0000 - val_loss: 580300160.0000\n",
      "Epoch 115/300\n",
      "37/37 [==============================] - 0s 1ms/step - loss: 43503128.0000 - val_loss: 578979968.0000\n",
      "Epoch 116/300\n",
      "37/37 [==============================] - 0s 1ms/step - loss: 42750808.0000 - val_loss: 577929920.0000\n",
      "Epoch 117/300\n",
      "37/37 [==============================] - 0s 1ms/step - loss: 42038964.0000 - val_loss: 576537920.0000\n",
      "Epoch 118/300\n",
      "37/37 [==============================] - 0s 1ms/step - loss: 41306760.0000 - val_loss: 574993216.0000\n",
      "Epoch 119/300\n",
      "37/37 [==============================] - 0s 1ms/step - loss: 40635604.0000 - val_loss: 573631680.0000\n",
      "Epoch 120/300\n",
      "37/37 [==============================] - 0s 1ms/step - loss: 39895224.0000 - val_loss: 572215616.0000\n",
      "Epoch 121/300\n",
      "37/37 [==============================] - 0s 1ms/step - loss: 39223976.0000 - val_loss: 570833728.0000\n",
      "Epoch 122/300\n",
      "37/37 [==============================] - 0s 1ms/step - loss: 38591368.0000 - val_loss: 569764992.0000\n",
      "Epoch 123/300\n",
      "37/37 [==============================] - 0s 1ms/step - loss: 37902572.0000 - val_loss: 568001408.0000\n",
      "Epoch 124/300\n",
      "37/37 [==============================] - 0s 1ms/step - loss: 37295920.0000 - val_loss: 566678592.0000\n",
      "Epoch 125/300\n",
      "37/37 [==============================] - 0s 1ms/step - loss: 36657236.0000 - val_loss: 565231744.0000\n",
      "Epoch 126/300\n",
      "37/37 [==============================] - 0s 1ms/step - loss: 36070868.0000 - val_loss: 563728576.0000\n",
      "Epoch 127/300\n",
      "37/37 [==============================] - 0s 1ms/step - loss: 35483044.0000 - val_loss: 562246016.0000\n",
      "Epoch 128/300\n",
      "37/37 [==============================] - 0s 1ms/step - loss: 34928492.0000 - val_loss: 560758336.0000\n",
      "Epoch 129/300\n",
      "37/37 [==============================] - 0s 1ms/step - loss: 34376020.0000 - val_loss: 559304256.0000\n",
      "Epoch 130/300\n",
      "37/37 [==============================] - 0s 1ms/step - loss: 33834928.0000 - val_loss: 557691264.0000\n",
      "Epoch 131/300\n",
      "37/37 [==============================] - 0s 1ms/step - loss: 33340228.0000 - val_loss: 556142976.0000\n",
      "Epoch 132/300\n",
      "37/37 [==============================] - 0s 1ms/step - loss: 32832430.0000 - val_loss: 554641728.0000\n",
      "Epoch 133/300\n",
      "37/37 [==============================] - 0s 1ms/step - loss: 32330958.0000 - val_loss: 553594560.0000\n",
      "Epoch 134/300\n",
      "37/37 [==============================] - 0s 1ms/step - loss: 31855240.0000 - val_loss: 551630080.0000\n",
      "Epoch 135/300\n",
      "37/37 [==============================] - 0s 1ms/step - loss: 31455756.0000 - val_loss: 550299200.0000\n",
      "Epoch 136/300\n",
      "37/37 [==============================] - 0s 1ms/step - loss: 31012236.0000 - val_loss: 549216000.0000\n",
      "Epoch 137/300\n",
      "37/37 [==============================] - 0s 1ms/step - loss: 30605204.0000 - val_loss: 547743168.0000\n",
      "Epoch 138/300\n",
      "37/37 [==============================] - 0s 1ms/step - loss: 30230352.0000 - val_loss: 546288576.0000\n",
      "Epoch 139/300\n",
      "37/37 [==============================] - 0s 1ms/step - loss: 29849002.0000 - val_loss: 544837696.0000\n",
      "Epoch 140/300\n",
      "37/37 [==============================] - 0s 1ms/step - loss: 29542486.0000 - val_loss: 543182976.0000\n",
      "Epoch 141/300\n",
      "37/37 [==============================] - 0s 1ms/step - loss: 29193288.0000 - val_loss: 542158528.0000\n",
      "Epoch 142/300\n",
      "37/37 [==============================] - 0s 1ms/step - loss: 28854356.0000 - val_loss: 540964928.0000\n"
     ]
    },
    {
     "name": "stdout",
     "output_type": "stream",
     "text": [
      "Epoch 143/300\n",
      "37/37 [==============================] - 0s 1ms/step - loss: 28551272.0000 - val_loss: 539883392.0000\n",
      "Epoch 144/300\n",
      "37/37 [==============================] - 0s 1ms/step - loss: 28244704.0000 - val_loss: 538427776.0000\n",
      "Epoch 145/300\n",
      "37/37 [==============================] - 0s 1ms/step - loss: 27961512.0000 - val_loss: 537353472.0000\n",
      "Epoch 146/300\n",
      "37/37 [==============================] - 0s 1ms/step - loss: 27700218.0000 - val_loss: 536391168.0000\n",
      "Epoch 147/300\n",
      "37/37 [==============================] - 0s 1ms/step - loss: 27449006.0000 - val_loss: 534614592.0000\n",
      "Epoch 148/300\n",
      "37/37 [==============================] - 0s 1ms/step - loss: 27267906.0000 - val_loss: 534000928.0000\n",
      "Epoch 149/300\n",
      "37/37 [==============================] - 0s 1ms/step - loss: 27047288.0000 - val_loss: 532982944.0000\n",
      "Epoch 150/300\n",
      "37/37 [==============================] - 0s 1ms/step - loss: 26859440.0000 - val_loss: 532126336.0000\n",
      "Epoch 151/300\n",
      "37/37 [==============================] - 0s 1ms/step - loss: 26629750.0000 - val_loss: 530684000.0000\n",
      "Epoch 152/300\n",
      "37/37 [==============================] - 0s 1ms/step - loss: 26486450.0000 - val_loss: 530330336.0000\n",
      "Epoch 153/300\n",
      "37/37 [==============================] - 0s 1ms/step - loss: 26319590.0000 - val_loss: 529241568.0000\n",
      "Epoch 154/300\n",
      "37/37 [==============================] - 0s 1ms/step - loss: 26160974.0000 - val_loss: 528457248.0000\n",
      "Epoch 155/300\n",
      "37/37 [==============================] - 0s 1ms/step - loss: 26016450.0000 - val_loss: 527962080.0000\n",
      "Epoch 156/300\n",
      "37/37 [==============================] - 0s 1ms/step - loss: 25913374.0000 - val_loss: 527008192.0000\n",
      "Epoch 157/300\n",
      "37/37 [==============================] - 0s 1ms/step - loss: 25766938.0000 - val_loss: 526262848.0000\n",
      "Epoch 158/300\n",
      "37/37 [==============================] - 0s 1ms/step - loss: 25655214.0000 - val_loss: 525513024.0000\n",
      "Epoch 159/300\n",
      "37/37 [==============================] - 0s 1ms/step - loss: 25550612.0000 - val_loss: 524728384.0000\n",
      "Epoch 160/300\n",
      "37/37 [==============================] - 0s 1ms/step - loss: 25441816.0000 - val_loss: 524029920.0000\n",
      "Epoch 161/300\n",
      "37/37 [==============================] - 0s 1ms/step - loss: 25344232.0000 - val_loss: 523584160.0000\n",
      "Epoch 162/300\n",
      "37/37 [==============================] - 0s 997us/step - loss: 25284328.0000 - val_loss: 522536640.0000\n",
      "Epoch 163/300\n",
      "37/37 [==============================] - 0s 1ms/step - loss: 25168712.0000 - val_loss: 522347104.0000\n",
      "Epoch 164/300\n",
      "37/37 [==============================] - 0s 1ms/step - loss: 25086660.0000 - val_loss: 521367328.0000\n",
      "Epoch 165/300\n",
      "37/37 [==============================] - 0s 1ms/step - loss: 25002866.0000 - val_loss: 520980704.0000\n",
      "Epoch 166/300\n",
      "37/37 [==============================] - 0s 1ms/step - loss: 24932538.0000 - val_loss: 520643840.0000\n",
      "Epoch 167/300\n",
      "37/37 [==============================] - 0s 1ms/step - loss: 24876320.0000 - val_loss: 519965696.0000\n",
      "Epoch 168/300\n",
      "37/37 [==============================] - 0s 1ms/step - loss: 24794632.0000 - val_loss: 519347680.0000\n",
      "Epoch 169/300\n",
      "37/37 [==============================] - 0s 1ms/step - loss: 24733702.0000 - val_loss: 518947424.0000\n",
      "Epoch 170/300\n",
      "37/37 [==============================] - 0s 1ms/step - loss: 24669662.0000 - val_loss: 518316032.0000\n",
      "Epoch 171/300\n",
      "37/37 [==============================] - 0s 1ms/step - loss: 24602954.0000 - val_loss: 518008512.0000\n",
      "Epoch 172/300\n",
      "37/37 [==============================] - 0s 1ms/step - loss: 24560098.0000 - val_loss: 517456960.0000\n",
      "Epoch 173/300\n",
      "37/37 [==============================] - 0s 2ms/step - loss: 24495018.0000 - val_loss: 517166496.0000\n",
      "Epoch 174/300\n",
      "37/37 [==============================] - 0s 1ms/step - loss: 24434648.0000 - val_loss: 516203680.0000\n",
      "Epoch 175/300\n",
      "37/37 [==============================] - 0s 1ms/step - loss: 24417420.0000 - val_loss: 515873056.0000\n",
      "Epoch 176/300\n",
      "37/37 [==============================] - 0s 1ms/step - loss: 24382622.0000 - val_loss: 515079424.0000\n",
      "Epoch 177/300\n",
      "37/37 [==============================] - 0s 970us/step - loss: 24308392.0000 - val_loss: 515309760.0000\n",
      "Epoch 178/300\n",
      "37/37 [==============================] - 0s 984us/step - loss: 24301540.0000 - val_loss: 514719904.0000\n",
      "Epoch 179/300\n",
      "37/37 [==============================] - 0s 997us/step - loss: 24260936.0000 - val_loss: 514285280.0000\n",
      "Epoch 180/300\n",
      "37/37 [==============================] - 0s 1ms/step - loss: 24200056.0000 - val_loss: 513534368.0000\n",
      "Epoch 181/300\n",
      "37/37 [==============================] - 0s 1ms/step - loss: 24154950.0000 - val_loss: 513654016.0000\n",
      "Epoch 182/300\n",
      "37/37 [==============================] - 0s 1ms/step - loss: 24082042.0000 - val_loss: 512988224.0000\n",
      "Epoch 183/300\n",
      "37/37 [==============================] - 0s 1ms/step - loss: 24061216.0000 - val_loss: 512788704.0000\n",
      "Epoch 184/300\n",
      "37/37 [==============================] - 0s 1ms/step - loss: 24015580.0000 - val_loss: 512584032.0000\n",
      "Epoch 185/300\n",
      "37/37 [==============================] - 0s 1ms/step - loss: 23980914.0000 - val_loss: 512118688.0000\n",
      "Epoch 186/300\n",
      "37/37 [==============================] - 0s 978us/step - loss: 23957454.0000 - val_loss: 511704416.0000\n",
      "Epoch 187/300\n",
      "37/37 [==============================] - 0s 1ms/step - loss: 23954980.0000 - val_loss: 511708576.0000\n",
      "Epoch 188/300\n",
      "37/37 [==============================] - 0s 1ms/step - loss: 23899420.0000 - val_loss: 511052192.0000\n",
      "Epoch 189/300\n",
      "37/37 [==============================] - 0s 1ms/step - loss: 23856724.0000 - val_loss: 510891456.0000\n",
      "Epoch 190/300\n",
      "37/37 [==============================] - 0s 1ms/step - loss: 23807310.0000 - val_loss: 510434240.0000\n",
      "Epoch 191/300\n",
      "37/37 [==============================] - 0s 1ms/step - loss: 23782156.0000 - val_loss: 510595456.0000\n",
      "Epoch 192/300\n",
      "37/37 [==============================] - 0s 1ms/step - loss: 23772060.0000 - val_loss: 510208032.0000\n",
      "Epoch 193/300\n",
      "37/37 [==============================] - 0s 1ms/step - loss: 23773936.0000 - val_loss: 510007296.0000\n",
      "Epoch 194/300\n",
      "37/37 [==============================] - 0s 1ms/step - loss: 23676092.0000 - val_loss: 509532960.0000\n",
      "Epoch 195/300\n",
      "37/37 [==============================] - 0s 1ms/step - loss: 23657256.0000 - val_loss: 509120896.0000\n",
      "Epoch 196/300\n",
      "37/37 [==============================] - 0s 1ms/step - loss: 23630984.0000 - val_loss: 508981248.0000\n",
      "Epoch 197/300\n",
      "37/37 [==============================] - 0s 1ms/step - loss: 23649418.0000 - val_loss: 508719712.0000\n",
      "Epoch 198/300\n",
      "37/37 [==============================] - 0s 997us/step - loss: 23569386.0000 - val_loss: 509367296.0000\n",
      "Epoch 199/300\n",
      "37/37 [==============================] - 0s 1ms/step - loss: 23584704.0000 - val_loss: 508219872.0000\n",
      "Epoch 200/300\n",
      "37/37 [==============================] - 0s 1ms/step - loss: 23561386.0000 - val_loss: 507915552.0000\n",
      "Epoch 201/300\n",
      "37/37 [==============================] - 0s 1ms/step - loss: 23481634.0000 - val_loss: 507902304.0000\n",
      "Epoch 202/300\n",
      "37/37 [==============================] - 0s 1ms/step - loss: 23453424.0000 - val_loss: 507511392.0000\n",
      "Epoch 203/300\n",
      "37/37 [==============================] - 0s 1ms/step - loss: 23442564.0000 - val_loss: 507350752.0000\n",
      "Epoch 204/300\n",
      "37/37 [==============================] - 0s 1ms/step - loss: 23415898.0000 - val_loss: 507681120.0000\n",
      "Epoch 205/300\n",
      "37/37 [==============================] - 0s 1ms/step - loss: 23362440.0000 - val_loss: 506788000.0000\n",
      "Epoch 206/300\n",
      "37/37 [==============================] - 0s 1ms/step - loss: 23357178.0000 - val_loss: 506941632.0000\n",
      "Epoch 207/300\n",
      "37/37 [==============================] - 0s 1ms/step - loss: 23310334.0000 - val_loss: 506700928.0000\n",
      "Epoch 208/300\n",
      "37/37 [==============================] - 0s 1ms/step - loss: 23289080.0000 - val_loss: 506577024.0000\n",
      "Epoch 209/300\n",
      "37/37 [==============================] - 0s 1ms/step - loss: 23253622.0000 - val_loss: 506279584.0000\n",
      "Epoch 210/300\n",
      "37/37 [==============================] - 0s 1ms/step - loss: 23226496.0000 - val_loss: 505671680.0000\n",
      "Epoch 211/300\n",
      "37/37 [==============================] - 0s 1ms/step - loss: 23239210.0000 - val_loss: 505515296.0000\n",
      "Epoch 212/300\n",
      "37/37 [==============================] - 0s 1ms/step - loss: 23170108.0000 - val_loss: 505098368.0000\n",
      "Epoch 213/300\n"
     ]
    },
    {
     "name": "stdout",
     "output_type": "stream",
     "text": [
      "37/37 [==============================] - 0s 1ms/step - loss: 23149010.0000 - val_loss: 505138080.0000\n",
      "Epoch 214/300\n",
      "37/37 [==============================] - 0s 1ms/step - loss: 23114236.0000 - val_loss: 504537312.0000\n",
      "Epoch 215/300\n",
      "37/37 [==============================] - 0s 1ms/step - loss: 23077682.0000 - val_loss: 504424576.0000\n",
      "Epoch 216/300\n",
      "37/37 [==============================] - 0s 1ms/step - loss: 23083576.0000 - val_loss: 504696768.0000\n",
      "Epoch 217/300\n",
      "37/37 [==============================] - 0s 1ms/step - loss: 23029806.0000 - val_loss: 503951488.0000\n",
      "Epoch 218/300\n",
      "37/37 [==============================] - 0s 996us/step - loss: 23005342.0000 - val_loss: 504195872.0000\n",
      "Epoch 219/300\n",
      "37/37 [==============================] - 0s 1ms/step - loss: 22971220.0000 - val_loss: 503565152.0000\n",
      "Epoch 220/300\n",
      "37/37 [==============================] - 0s 1ms/step - loss: 22962622.0000 - val_loss: 503129824.0000\n",
      "Epoch 221/300\n",
      "37/37 [==============================] - 0s 1ms/step - loss: 22916558.0000 - val_loss: 502890240.0000\n",
      "Epoch 222/300\n",
      "37/37 [==============================] - 0s 1ms/step - loss: 22897140.0000 - val_loss: 502116704.0000\n",
      "Epoch 223/300\n",
      "37/37 [==============================] - 0s 1ms/step - loss: 22927302.0000 - val_loss: 502288384.0000\n",
      "Epoch 224/300\n",
      "37/37 [==============================] - 0s 1ms/step - loss: 22839270.0000 - val_loss: 501912992.0000\n",
      "Epoch 225/300\n",
      "37/37 [==============================] - 0s 1ms/step - loss: 22818344.0000 - val_loss: 501386208.0000\n",
      "Epoch 226/300\n",
      "37/37 [==============================] - 0s 1ms/step - loss: 22788288.0000 - val_loss: 500485664.0000\n",
      "Epoch 227/300\n",
      "37/37 [==============================] - 0s 1ms/step - loss: 22823004.0000 - val_loss: 500985952.0000\n",
      "Epoch 228/300\n",
      "37/37 [==============================] - 0s 1ms/step - loss: 22746640.0000 - val_loss: 501040608.0000\n",
      "Epoch 229/300\n",
      "37/37 [==============================] - 0s 1ms/step - loss: 22717440.0000 - val_loss: 501026336.0000\n",
      "Epoch 230/300\n",
      "37/37 [==============================] - 0s 1ms/step - loss: 22705080.0000 - val_loss: 500477216.0000\n",
      "Epoch 231/300\n",
      "37/37 [==============================] - 0s 997us/step - loss: 22673182.0000 - val_loss: 500039168.0000\n",
      "Epoch 232/300\n",
      "37/37 [==============================] - 0s 1ms/step - loss: 22648022.0000 - val_loss: 500098848.0000\n",
      "Epoch 233/300\n",
      "37/37 [==============================] - 0s 1ms/step - loss: 22632032.0000 - val_loss: 499739712.0000\n",
      "Epoch 234/300\n",
      "37/37 [==============================] - 0s 1ms/step - loss: 22614154.0000 - val_loss: 499585696.0000\n",
      "Epoch 235/300\n",
      "37/37 [==============================] - 0s 1ms/step - loss: 22596540.0000 - val_loss: 499258656.0000\n",
      "Epoch 236/300\n",
      "37/37 [==============================] - 0s 997us/step - loss: 22576520.0000 - val_loss: 499015264.0000\n",
      "Epoch 237/300\n",
      "37/37 [==============================] - 0s 997us/step - loss: 22538412.0000 - val_loss: 498729088.0000\n",
      "Epoch 238/300\n",
      "37/37 [==============================] - 0s 1ms/step - loss: 22545552.0000 - val_loss: 498778176.0000\n",
      "Epoch 239/300\n",
      "37/37 [==============================] - 0s 1ms/step - loss: 22523786.0000 - val_loss: 498576320.0000\n",
      "Epoch 240/300\n",
      "37/37 [==============================] - 0s 1ms/step - loss: 22476726.0000 - val_loss: 498034080.0000\n",
      "Epoch 241/300\n",
      "37/37 [==============================] - 0s 1ms/step - loss: 22465214.0000 - val_loss: 497822464.0000\n",
      "Epoch 242/300\n",
      "37/37 [==============================] - 0s 1ms/step - loss: 22454354.0000 - val_loss: 497711328.0000\n",
      "Epoch 243/300\n",
      "37/37 [==============================] - 0s 1ms/step - loss: 22442882.0000 - val_loss: 497417120.0000\n",
      "Epoch 244/300\n",
      "37/37 [==============================] - 0s 1ms/step - loss: 22426920.0000 - val_loss: 497311104.0000\n",
      "Epoch 245/300\n",
      "37/37 [==============================] - 0s 1ms/step - loss: 22408770.0000 - val_loss: 497279968.0000\n",
      "Epoch 246/300\n",
      "37/37 [==============================] - 0s 1ms/step - loss: 22384976.0000 - val_loss: 497520864.0000\n",
      "Epoch 247/300\n",
      "37/37 [==============================] - 0s 1ms/step - loss: 22348686.0000 - val_loss: 497100512.0000\n",
      "Epoch 248/300\n",
      "37/37 [==============================] - 0s 1ms/step - loss: 22343626.0000 - val_loss: 496810688.0000\n",
      "Epoch 249/300\n",
      "37/37 [==============================] - 0s 1ms/step - loss: 22345078.0000 - val_loss: 496248320.0000\n",
      "Epoch 250/300\n",
      "37/37 [==============================] - 0s 1ms/step - loss: 22304960.0000 - val_loss: 496503648.0000\n",
      "Epoch 251/300\n",
      "37/37 [==============================] - 0s 1ms/step - loss: 22294038.0000 - val_loss: 496392672.0000\n",
      "Epoch 252/300\n",
      "37/37 [==============================] - 0s 1ms/step - loss: 22290440.0000 - val_loss: 496427232.0000\n",
      "Epoch 253/300\n",
      "37/37 [==============================] - 0s 1ms/step - loss: 22264652.0000 - val_loss: 496348544.0000\n",
      "Epoch 254/300\n",
      "37/37 [==============================] - 0s 1ms/step - loss: 22226488.0000 - val_loss: 495586048.0000\n",
      "Epoch 255/300\n",
      "37/37 [==============================] - 0s 1ms/step - loss: 22236898.0000 - val_loss: 495968736.0000\n",
      "Epoch 256/300\n",
      "37/37 [==============================] - 0s 1ms/step - loss: 22206508.0000 - val_loss: 495309696.0000\n",
      "Epoch 257/300\n",
      "37/37 [==============================] - 0s 1ms/step - loss: 22208494.0000 - val_loss: 495418080.0000\n",
      "Epoch 258/300\n",
      "37/37 [==============================] - 0s 1ms/step - loss: 22190450.0000 - val_loss: 495440032.0000\n",
      "Epoch 259/300\n",
      "37/37 [==============================] - 0s 1ms/step - loss: 22174484.0000 - val_loss: 495357472.0000\n",
      "Epoch 260/300\n",
      "37/37 [==============================] - 0s 1ms/step - loss: 22147096.0000 - val_loss: 495361248.0000\n",
      "Epoch 261/300\n",
      "37/37 [==============================] - 0s 999us/step - loss: 22149786.0000 - val_loss: 494673920.0000\n",
      "Epoch 262/300\n",
      "37/37 [==============================] - 0s 1ms/step - loss: 22147358.0000 - val_loss: 495243968.0000\n",
      "Epoch 263/300\n",
      "37/37 [==============================] - 0s 1ms/step - loss: 22113548.0000 - val_loss: 494698400.0000\n",
      "Epoch 264/300\n",
      "37/37 [==============================] - 0s 1ms/step - loss: 22108962.0000 - val_loss: 494644576.0000\n",
      "Epoch 265/300\n",
      "37/37 [==============================] - 0s 1ms/step - loss: 22087136.0000 - val_loss: 494885568.0000\n",
      "Epoch 266/300\n",
      "37/37 [==============================] - 0s 1ms/step - loss: 22076984.0000 - val_loss: 494912288.0000\n",
      "Epoch 267/300\n",
      "37/37 [==============================] - 0s 1ms/step - loss: 22054838.0000 - val_loss: 494780832.0000\n",
      "Epoch 268/300\n",
      "37/37 [==============================] - 0s 1ms/step - loss: 22044874.0000 - val_loss: 494433824.0000\n",
      "Epoch 269/300\n",
      "37/37 [==============================] - 0s 1ms/step - loss: 22032852.0000 - val_loss: 494241088.0000\n",
      "Epoch 270/300\n",
      "37/37 [==============================] - 0s 1ms/step - loss: 22042456.0000 - val_loss: 494403200.0000\n",
      "Epoch 271/300\n",
      "37/37 [==============================] - 0s 1ms/step - loss: 22005898.0000 - val_loss: 494029888.0000\n",
      "Epoch 272/300\n",
      "37/37 [==============================] - 0s 1ms/step - loss: 22023574.0000 - val_loss: 493769856.0000\n",
      "Epoch 273/300\n",
      "37/37 [==============================] - 0s 1ms/step - loss: 21983194.0000 - val_loss: 493975168.0000\n",
      "Epoch 274/300\n",
      "37/37 [==============================] - 0s 1ms/step - loss: 21969246.0000 - val_loss: 493766912.0000\n",
      "Epoch 275/300\n",
      "37/37 [==============================] - 0s 1ms/step - loss: 21948784.0000 - val_loss: 493495264.0000\n",
      "Epoch 276/300\n",
      "37/37 [==============================] - 0s 1ms/step - loss: 21941686.0000 - val_loss: 493841792.0000\n",
      "Epoch 277/300\n",
      "37/37 [==============================] - 0s 1ms/step - loss: 21932804.0000 - val_loss: 492966816.0000\n",
      "Epoch 278/300\n",
      "37/37 [==============================] - 0s 997us/step - loss: 21927250.0000 - val_loss: 493244960.0000\n",
      "Epoch 279/300\n",
      "37/37 [==============================] - 0s 1ms/step - loss: 21905234.0000 - val_loss: 493213504.0000\n",
      "Epoch 280/300\n",
      "37/37 [==============================] - 0s 1ms/step - loss: 21889406.0000 - val_loss: 493551584.0000\n",
      "Epoch 281/300\n",
      "37/37 [==============================] - 0s 1ms/step - loss: 21896772.0000 - val_loss: 492991168.0000\n",
      "Epoch 282/300\n",
      "37/37 [==============================] - 0s 1ms/step - loss: 21859258.0000 - val_loss: 493318272.0000\n",
      "Epoch 283/300\n"
     ]
    },
    {
     "name": "stdout",
     "output_type": "stream",
     "text": [
      "37/37 [==============================] - 0s 1ms/step - loss: 21898180.0000 - val_loss: 492906976.0000\n",
      "Epoch 284/300\n",
      "37/37 [==============================] - 0s 1ms/step - loss: 21843144.0000 - val_loss: 493129152.0000\n",
      "Epoch 285/300\n",
      "37/37 [==============================] - 0s 1ms/step - loss: 21871978.0000 - val_loss: 492873920.0000\n",
      "Epoch 286/300\n",
      "37/37 [==============================] - 0s 1ms/step - loss: 21825872.0000 - val_loss: 493136896.0000\n",
      "Epoch 287/300\n",
      "37/37 [==============================] - 0s 1ms/step - loss: 21880834.0000 - val_loss: 492816608.0000\n",
      "Epoch 288/300\n",
      "37/37 [==============================] - 0s 2ms/step - loss: 21796808.0000 - val_loss: 492276064.0000\n",
      "Epoch 289/300\n",
      "37/37 [==============================] - 0s 1ms/step - loss: 21783458.0000 - val_loss: 492253184.0000\n",
      "Epoch 290/300\n",
      "37/37 [==============================] - 0s 1ms/step - loss: 21782938.0000 - val_loss: 492044160.0000\n",
      "Epoch 291/300\n",
      "37/37 [==============================] - 0s 2ms/step - loss: 21788506.0000 - val_loss: 491327424.0000\n",
      "Epoch 292/300\n",
      "37/37 [==============================] - 0s 2ms/step - loss: 21767012.0000 - val_loss: 491294656.0000\n",
      "Epoch 293/300\n",
      "37/37 [==============================] - 0s 2ms/step - loss: 21737486.0000 - val_loss: 491774208.0000\n",
      "Epoch 294/300\n",
      "37/37 [==============================] - 0s 1ms/step - loss: 21743196.0000 - val_loss: 491560640.0000\n",
      "Epoch 295/300\n",
      "37/37 [==============================] - 0s 1ms/step - loss: 21711924.0000 - val_loss: 491235200.0000\n",
      "Epoch 296/300\n",
      "37/37 [==============================] - 0s 1ms/step - loss: 21700534.0000 - val_loss: 491037440.0000\n",
      "Epoch 297/300\n",
      "37/37 [==============================] - 0s 1ms/step - loss: 21691404.0000 - val_loss: 491332416.0000\n",
      "Epoch 298/300\n",
      "37/37 [==============================] - 0s 1ms/step - loss: 21688122.0000 - val_loss: 491331904.0000\n",
      "Epoch 299/300\n",
      "37/37 [==============================] - 0s 1ms/step - loss: 21666554.0000 - val_loss: 490992512.0000\n",
      "Epoch 300/300\n",
      "37/37 [==============================] - 0s 1ms/step - loss: 21646346.0000 - val_loss: 490856160.0000\n"
     ]
    },
    {
     "data": {
      "text/plain": [
       "<tensorflow.python.keras.callbacks.History at 0x26f73967d60>"
      ]
     },
     "execution_count": 60,
     "metadata": {},
     "output_type": "execute_result"
    }
   ],
   "source": [
    "model.fit(x = x_train, y = y_train, validation_data=(x_test, y_test), batch_size = 250, epochs = 300)"
   ]
  },
  {
   "cell_type": "code",
   "execution_count": 61,
   "metadata": {},
   "outputs": [],
   "source": [
    "kayipVerisi = pd.DataFrame(model.history.history)"
   ]
  },
  {
   "cell_type": "code",
   "execution_count": 66,
   "metadata": {},
   "outputs": [
    {
     "data": {
      "text/html": [
       "<div>\n",
       "<style scoped>\n",
       "    .dataframe tbody tr th:only-of-type {\n",
       "        vertical-align: middle;\n",
       "    }\n",
       "\n",
       "    .dataframe tbody tr th {\n",
       "        vertical-align: top;\n",
       "    }\n",
       "\n",
       "    .dataframe thead th {\n",
       "        text-align: right;\n",
       "    }\n",
       "</style>\n",
       "<table border=\"1\" class=\"dataframe\">\n",
       "  <thead>\n",
       "    <tr style=\"text-align: right;\">\n",
       "      <th></th>\n",
       "      <th>loss</th>\n",
       "      <th>val_loss</th>\n",
       "    </tr>\n",
       "  </thead>\n",
       "  <tbody>\n",
       "    <tr>\n",
       "      <th>0</th>\n",
       "      <td>672927744.0</td>\n",
       "      <td>686310528.0</td>\n",
       "    </tr>\n",
       "    <tr>\n",
       "      <th>1</th>\n",
       "      <td>672917504.0</td>\n",
       "      <td>686265536.0</td>\n",
       "    </tr>\n",
       "    <tr>\n",
       "      <th>2</th>\n",
       "      <td>672906688.0</td>\n",
       "      <td>686182144.0</td>\n",
       "    </tr>\n",
       "    <tr>\n",
       "      <th>3</th>\n",
       "      <td>672865472.0</td>\n",
       "      <td>685987328.0</td>\n",
       "    </tr>\n",
       "    <tr>\n",
       "      <th>4</th>\n",
       "      <td>672673472.0</td>\n",
       "      <td>685546560.0</td>\n",
       "    </tr>\n",
       "  </tbody>\n",
       "</table>\n",
       "</div>"
      ],
      "text/plain": [
       "          loss     val_loss\n",
       "0  672927744.0  686310528.0\n",
       "1  672917504.0  686265536.0\n",
       "2  672906688.0  686182144.0\n",
       "3  672865472.0  685987328.0\n",
       "4  672673472.0  685546560.0"
      ]
     },
     "execution_count": 66,
     "metadata": {},
     "output_type": "execute_result"
    }
   ],
   "source": [
    "kayipVerisi.head()"
   ]
  },
  {
   "cell_type": "code",
   "execution_count": 67,
   "metadata": {},
   "outputs": [
    {
     "data": {
      "text/plain": [
       "<matplotlib.axes._subplots.AxesSubplot at 0x26f754de9a0>"
      ]
     },
     "execution_count": 67,
     "metadata": {},
     "output_type": "execute_result"
    },
    {
     "data": {
      "image/png": "[encoded data removed]",
      "text/plain": [
       "<Figure size 432x288 with 1 Axes>"
      ]
     },
     "metadata": {
      "needs_background": "light"
     },
     "output_type": "display_data"
    }
   ],
   "source": [
    "kayipVerisi.plot()"
   ]
  },
  {
   "cell_type": "code",
   "execution_count": 68,
   "metadata": {},
   "outputs": [],
   "source": [
    "from sklearn.metrics import mean_squared_error, mean_absolute_error"
   ]
  },
  {
   "cell_type": "code",
   "execution_count": 69,
   "metadata": {},
   "outputs": [],
   "source": [
    "tahminDizisi = model.predict(x_test)"
   ]
  },
  {
   "cell_type": "code",
   "execution_count": 70,
   "metadata": {},
   "outputs": [
    {
     "data": {
      "text/plain": [
       "array([[4437.9956],\n",
       "       [4438.0054],\n",
       "       [4437.9956],\n",
       "       ...,\n",
       "       [4438.284 ],\n",
       "       [4437.841 ],\n",
       "       [4437.9795]], dtype=float32)"
      ]
     },
     "execution_count": 70,
     "metadata": {},
     "output_type": "execute_result"
    }
   ],
   "source": [
    "tahminDizisi"
   ]
  },
  {
   "cell_type": "code",
   "execution_count": 74,
   "metadata": {},
   "outputs": [
    {
     "data": {
      "text/plain": [
       "19819.439481692647"
      ]
     },
     "execution_count": 74,
     "metadata": {},
     "output_type": "execute_result"
    }
   ],
   "source": [
    "mean_absolute_error(y_test, tahminDizisi)"
   ]
  },
  {
   "cell_type": "code",
   "execution_count": 75,
   "metadata": {},
   "outputs": [
    {
     "data": {
      "text/plain": [
       "[<matplotlib.lines.Line2D at 0x26f756a41f0>]"
      ]
     },
     "execution_count": 75,
     "metadata": {},
     "output_type": "execute_result"
    },
    {
     "data": {
      "image/png": "[encoded data removed]",
      "text/plain": [
       "<Figure size 432x288 with 1 Axes>"
      ]
     },
     "metadata": {
      "needs_background": "light"
     },
     "output_type": "display_data"
    }
   ],
   "source": [
    "plt.scatter(y_test, tahminDizisi)\n",
    "plt.plot(y_test,y_test, \"g-*\")"
   ]
  },
  {
   "cell_type": "code",
   "execution_count": 76,
   "metadata": {},
   "outputs": [
    {
     "data": {
      "text/plain": [
       "year           2020.0\n",
       "price         65980.0\n",
       "mileage        3999.0\n",
       "tax             145.0\n",
       "mpg              28.0\n",
       "engineSize        4.0\n",
       "Name: 3191, dtype: float64"
      ]
     },
     "execution_count": 76,
     "metadata": {},
     "output_type": "execute_result"
    }
   ],
   "source": [
    "dataFrame.iloc[2]"
   ]
  },
  {
   "cell_type": "code",
   "execution_count": 77,
   "metadata": {},
   "outputs": [],
   "source": [
    "yeniArabaSeries = dataFrame.drop(\"price\", axis = 1).iloc[2]"
   ]
  },
  {
   "cell_type": "code",
   "execution_count": 78,
   "metadata": {},
   "outputs": [
    {
     "data": {
      "text/plain": [
       "year          2020.0\n",
       "mileage       3999.0\n",
       "tax            145.0\n",
       "mpg             28.0\n",
       "engineSize       4.0\n",
       "Name: 3191, dtype: float64"
      ]
     },
     "execution_count": 78,
     "metadata": {},
     "output_type": "execute_result"
    }
   ],
   "source": [
    "yeniArabaSeries"
   ]
  },
  {
   "cell_type": "code",
   "execution_count": 79,
   "metadata": {},
   "outputs": [],
   "source": [
    "yeniArabaSeries = scaler.transform(yeniArabaSeries.values.reshape(-1,5))"
   ]
  },
  {
   "cell_type": "code",
   "execution_count": 80,
   "metadata": {},
   "outputs": [
    {
     "data": {
      "text/plain": [
       "array([[60210.215]], dtype=float32)"
      ]
     },
     "execution_count": 80,
     "metadata": {},
     "output_type": "execute_result"
    }
   ],
   "source": [
    "model.predict(yeniArabaSeries)"
   ]
  },
  {
   "cell_type": "code",
   "execution_count": null,
   "metadata": {},
   "outputs": [],
   "source": []
  }
 ],
 "metadata": {
  "kernelspec": {
   "display_name": "Python 3",
   "language": "python",
   "name": "python3"
  },
  "language_info": {
   "codemirror_mode": {
    "name": "ipython",
    "version": 3
   },
   "file_extension": ".py",
   "mimetype": "text/x-python",
   "name": "python",
   "nbconvert_exporter": "python",
   "pygments_lexer": "ipython3",
   "version": "3.8.3"
  }
 },
 "nbformat": 4,
 "nbformat_minor": 4
}
